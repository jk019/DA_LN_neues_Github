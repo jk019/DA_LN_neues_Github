{
 "cells": [
  {
   "attachments": {},
   "cell_type": "markdown",
   "metadata": {},
   "source": [
    "## Regression-modell für Autos\n",
    "Wir wollen eine Vorhersage treffen können, wie teuer ein Elektro-Auto aufgrund des PS-Standes"
   ]
  },
  {
   "attachments": {},
   "cell_type": "markdown",
   "metadata": {},
   "source": [
    "## Imports"
   ]
  },
  {
   "cell_type": "code",
   "execution_count": 1,
   "metadata": {},
   "outputs": [
    {
     "name": "stdout",
     "output_type": "stream",
     "text": [
      "c:\\Users\\luchu\\Documents\\GitHub\\DA_LN_neues_Github\\Analysen\n"
     ]
    }
   ],
   "source": [
    "# Libraries\n",
    "import os\n",
    "import numpy as np\n",
    "import pandas as pd\n",
    "import scipy.stats as stats\n",
    "import statsmodels.api as sm\n",
    "import matplotlib.pyplot as plt\n",
    "from sklearn import linear_model\n",
    "from sklearn.model_selection import train_test_split\n",
    "\n",
    "# Ignore warnings\n",
    "import warnings\n",
    "warnings.filterwarnings('ignore')\n",
    "\n",
    "# Show current working directory\n",
    "print(os.getcwd())"
   ]
  },
  {
   "attachments": {},
   "cell_type": "markdown",
   "metadata": {},
   "source": [
    "## CSV Dateien Einlesen"
   ]
  },
  {
   "cell_type": "code",
   "execution_count": 2,
   "metadata": {},
   "outputs": [
    {
     "data": {
      "text/html": [
       "<div>\n",
       "<style scoped>\n",
       "    .dataframe tbody tr th:only-of-type {\n",
       "        vertical-align: middle;\n",
       "    }\n",
       "\n",
       "    .dataframe tbody tr th {\n",
       "        vertical-align: top;\n",
       "    }\n",
       "\n",
       "    .dataframe thead th {\n",
       "        text-align: right;\n",
       "    }\n",
       "</style>\n",
       "<table border=\"1\" class=\"dataframe\">\n",
       "  <thead>\n",
       "    <tr style=\"text-align: right;\">\n",
       "      <th></th>\n",
       "      <th>Unnamed: 0</th>\n",
       "      <th>web-scraper-order</th>\n",
       "      <th>web-scraper-start-url</th>\n",
       "      <th>Preis</th>\n",
       "      <th>plz</th>\n",
       "      <th>jahr</th>\n",
       "      <th>ps-stand</th>\n",
       "      <th>Farbe</th>\n",
       "      <th>PLZ4</th>\n",
       "      <th>%_IN_GDE</th>\n",
       "      <th>KTKZ</th>\n",
       "      <th>GDENR</th>\n",
       "      <th>GDENAMK</th>\n",
       "      <th>Hist.-Nummer</th>\n",
       "      <th>Kanton</th>\n",
       "      <th>Bezirks-nummer</th>\n",
       "      <th>Bezirksname</th>\n",
       "      <th>BFS Gde-nummer</th>\n",
       "      <th>Gemeindename</th>\n",
       "      <th>Datum der Aufnahme</th>\n",
       "    </tr>\n",
       "  </thead>\n",
       "  <tbody>\n",
       "    <tr>\n",
       "      <th>1</th>\n",
       "      <td>1</td>\n",
       "      <td>1669622809-190</td>\n",
       "      <td>https://www.autolina.ch/elektro-auto</td>\n",
       "      <td>42500</td>\n",
       "      <td>6464</td>\n",
       "      <td>2022.0</td>\n",
       "      <td>204.0</td>\n",
       "      <td>weiss</td>\n",
       "      <td>6464.0</td>\n",
       "      <td>0.36</td>\n",
       "      <td>UR</td>\n",
       "      <td>1205.0</td>\n",
       "      <td>Bürglen (UR)</td>\n",
       "      <td>11506.0</td>\n",
       "      <td>UR</td>\n",
       "      <td>400.0</td>\n",
       "      <td>Kt. Uri</td>\n",
       "      <td>1205</td>\n",
       "      <td>Bürglen (UR)</td>\n",
       "      <td>1848-09-12</td>\n",
       "    </tr>\n",
       "    <tr>\n",
       "      <th>3</th>\n",
       "      <td>3</td>\n",
       "      <td>1669622809-192</td>\n",
       "      <td>https://www.autolina.ch/elektro-auto</td>\n",
       "      <td>44900</td>\n",
       "      <td>1184</td>\n",
       "      <td>2019.0</td>\n",
       "      <td>513.0</td>\n",
       "      <td>weiss</td>\n",
       "      <td>1184.0</td>\n",
       "      <td>100.00</td>\n",
       "      <td>VD</td>\n",
       "      <td>5858.0</td>\n",
       "      <td>Luins</td>\n",
       "      <td>14638.0</td>\n",
       "      <td>VD</td>\n",
       "      <td>2228.0</td>\n",
       "      <td>Nyon</td>\n",
       "      <td>5858</td>\n",
       "      <td>Luins</td>\n",
       "      <td>2006-09-01</td>\n",
       "    </tr>\n",
       "    <tr>\n",
       "      <th>9</th>\n",
       "      <td>9</td>\n",
       "      <td>1669622809-198</td>\n",
       "      <td>https://www.autolina.ch/elektro-auto</td>\n",
       "      <td>26450</td>\n",
       "      <td>6440</td>\n",
       "      <td>2020.0</td>\n",
       "      <td>145.0</td>\n",
       "      <td>grau</td>\n",
       "      <td>6440.0</td>\n",
       "      <td>99.54</td>\n",
       "      <td>SZ</td>\n",
       "      <td>1364.0</td>\n",
       "      <td>Ingenbohl</td>\n",
       "      <td>12657.0</td>\n",
       "      <td>SZ</td>\n",
       "      <td>506.0</td>\n",
       "      <td>Schwyz</td>\n",
       "      <td>1364</td>\n",
       "      <td>Ingenbohl</td>\n",
       "      <td>1848-09-12</td>\n",
       "    </tr>\n",
       "    <tr>\n",
       "      <th>10</th>\n",
       "      <td>10</td>\n",
       "      <td>1669622809-199</td>\n",
       "      <td>https://www.autolina.ch/elektro-auto</td>\n",
       "      <td>43899</td>\n",
       "      <td>8580</td>\n",
       "      <td>2017.0</td>\n",
       "      <td>525.0</td>\n",
       "      <td>blau</td>\n",
       "      <td>8580.0</td>\n",
       "      <td>0.51</td>\n",
       "      <td>SG</td>\n",
       "      <td>3202.0</td>\n",
       "      <td>Muolen</td>\n",
       "      <td>14379.0</td>\n",
       "      <td>SG</td>\n",
       "      <td>1721.0</td>\n",
       "      <td>St. Gallen</td>\n",
       "      <td>3202</td>\n",
       "      <td>Muolen</td>\n",
       "      <td>2003-01-01</td>\n",
       "    </tr>\n",
       "    <tr>\n",
       "      <th>11</th>\n",
       "      <td>11</td>\n",
       "      <td>1669622809-200</td>\n",
       "      <td>https://www.autolina.ch/elektro-auto</td>\n",
       "      <td>96699</td>\n",
       "      <td>8580</td>\n",
       "      <td>2021.0</td>\n",
       "      <td>573.0</td>\n",
       "      <td>weiss</td>\n",
       "      <td>8580.0</td>\n",
       "      <td>0.51</td>\n",
       "      <td>SG</td>\n",
       "      <td>3202.0</td>\n",
       "      <td>Muolen</td>\n",
       "      <td>14379.0</td>\n",
       "      <td>SG</td>\n",
       "      <td>1721.0</td>\n",
       "      <td>St. Gallen</td>\n",
       "      <td>3202</td>\n",
       "      <td>Muolen</td>\n",
       "      <td>2003-01-01</td>\n",
       "    </tr>\n",
       "    <tr>\n",
       "      <th>...</th>\n",
       "      <td>...</td>\n",
       "      <td>...</td>\n",
       "      <td>...</td>\n",
       "      <td>...</td>\n",
       "      <td>...</td>\n",
       "      <td>...</td>\n",
       "      <td>...</td>\n",
       "      <td>...</td>\n",
       "      <td>...</td>\n",
       "      <td>...</td>\n",
       "      <td>...</td>\n",
       "      <td>...</td>\n",
       "      <td>...</td>\n",
       "      <td>...</td>\n",
       "      <td>...</td>\n",
       "      <td>...</td>\n",
       "      <td>...</td>\n",
       "      <td>...</td>\n",
       "      <td>...</td>\n",
       "      <td>...</td>\n",
       "    </tr>\n",
       "    <tr>\n",
       "      <th>2206</th>\n",
       "      <td>2307</td>\n",
       "      <td>1669622809-2496</td>\n",
       "      <td>https://www.autolina.ch/elektro-auto</td>\n",
       "      <td>79900</td>\n",
       "      <td>1163</td>\n",
       "      <td>2022.0</td>\n",
       "      <td>299.0</td>\n",
       "      <td>weiss</td>\n",
       "      <td>1163.0</td>\n",
       "      <td>100.00</td>\n",
       "      <td>VD</td>\n",
       "      <td>5636.0</td>\n",
       "      <td>Etoy</td>\n",
       "      <td>14703.0</td>\n",
       "      <td>VD</td>\n",
       "      <td>2227.0</td>\n",
       "      <td>Morges</td>\n",
       "      <td>5636</td>\n",
       "      <td>Etoy</td>\n",
       "      <td>2006-09-01</td>\n",
       "    </tr>\n",
       "    <tr>\n",
       "      <th>2207</th>\n",
       "      <td>2308</td>\n",
       "      <td>1669622809-2497</td>\n",
       "      <td>https://www.autolina.ch/elektro-auto</td>\n",
       "      <td>36890</td>\n",
       "      <td>1219</td>\n",
       "      <td>2021.0</td>\n",
       "      <td>136.0</td>\n",
       "      <td>weiss</td>\n",
       "      <td>1219.0</td>\n",
       "      <td>51.74</td>\n",
       "      <td>GE</td>\n",
       "      <td>6643.0</td>\n",
       "      <td>Vernier</td>\n",
       "      <td>10918.0</td>\n",
       "      <td>GE</td>\n",
       "      <td>2500.0</td>\n",
       "      <td>Cant. de Genève</td>\n",
       "      <td>6643</td>\n",
       "      <td>Vernier</td>\n",
       "      <td>1848-09-12</td>\n",
       "    </tr>\n",
       "    <tr>\n",
       "      <th>2208</th>\n",
       "      <td>2309</td>\n",
       "      <td>1669622809-2498</td>\n",
       "      <td>https://www.autolina.ch/elektro-auto</td>\n",
       "      <td>112790</td>\n",
       "      <td>4310</td>\n",
       "      <td>2022.0</td>\n",
       "      <td>503.0</td>\n",
       "      <td>schwarz</td>\n",
       "      <td>4310.0</td>\n",
       "      <td>98.50</td>\n",
       "      <td>AG</td>\n",
       "      <td>4258.0</td>\n",
       "      <td>Rheinfelden</td>\n",
       "      <td>12911.0</td>\n",
       "      <td>AG</td>\n",
       "      <td>1909.0</td>\n",
       "      <td>Rheinfelden</td>\n",
       "      <td>4258</td>\n",
       "      <td>Rheinfelden</td>\n",
       "      <td>1848-09-12</td>\n",
       "    </tr>\n",
       "    <tr>\n",
       "      <th>2210</th>\n",
       "      <td>2311</td>\n",
       "      <td>1669622809-2500</td>\n",
       "      <td>https://www.autolina.ch/elektro-auto</td>\n",
       "      <td>49800</td>\n",
       "      <td>3322</td>\n",
       "      <td>2022.0</td>\n",
       "      <td>218.0</td>\n",
       "      <td>blau</td>\n",
       "      <td>3322.0</td>\n",
       "      <td>100.00</td>\n",
       "      <td>BE</td>\n",
       "      <td>543.0</td>\n",
       "      <td>Mattstetten</td>\n",
       "      <td>15122.0</td>\n",
       "      <td>BE</td>\n",
       "      <td>246.0</td>\n",
       "      <td>Bern-Mittelland</td>\n",
       "      <td>543</td>\n",
       "      <td>Mattstetten</td>\n",
       "      <td>2010-01-01</td>\n",
       "    </tr>\n",
       "    <tr>\n",
       "      <th>2212</th>\n",
       "      <td>2313</td>\n",
       "      <td>1669622809-2502</td>\n",
       "      <td>https://www.autolina.ch/elektro-auto</td>\n",
       "      <td>86100</td>\n",
       "      <td>8706</td>\n",
       "      <td>2021.0</td>\n",
       "      <td>503.0</td>\n",
       "      <td>grau</td>\n",
       "      <td>8706.0</td>\n",
       "      <td>100.00</td>\n",
       "      <td>ZH</td>\n",
       "      <td>156.0</td>\n",
       "      <td>Meilen</td>\n",
       "      <td>12408.0</td>\n",
       "      <td>ZH</td>\n",
       "      <td>107.0</td>\n",
       "      <td>Meilen</td>\n",
       "      <td>156</td>\n",
       "      <td>Meilen</td>\n",
       "      <td>1848-09-12</td>\n",
       "    </tr>\n",
       "  </tbody>\n",
       "</table>\n",
       "<p>962 rows × 20 columns</p>\n",
       "</div>"
      ],
      "text/plain": [
       "      Unnamed: 0 web-scraper-order                 web-scraper-start-url  \\\n",
       "1              1    1669622809-190  https://www.autolina.ch/elektro-auto   \n",
       "3              3    1669622809-192  https://www.autolina.ch/elektro-auto   \n",
       "9              9    1669622809-198  https://www.autolina.ch/elektro-auto   \n",
       "10            10    1669622809-199  https://www.autolina.ch/elektro-auto   \n",
       "11            11    1669622809-200  https://www.autolina.ch/elektro-auto   \n",
       "...          ...               ...                                   ...   \n",
       "2206        2307   1669622809-2496  https://www.autolina.ch/elektro-auto   \n",
       "2207        2308   1669622809-2497  https://www.autolina.ch/elektro-auto   \n",
       "2208        2309   1669622809-2498  https://www.autolina.ch/elektro-auto   \n",
       "2210        2311   1669622809-2500  https://www.autolina.ch/elektro-auto   \n",
       "2212        2313   1669622809-2502  https://www.autolina.ch/elektro-auto   \n",
       "\n",
       "       Preis   plz    jahr  ps-stand    Farbe    PLZ4  %_IN_GDE KTKZ   GDENR  \\\n",
       "1      42500  6464  2022.0     204.0    weiss  6464.0      0.36   UR  1205.0   \n",
       "3      44900  1184  2019.0     513.0    weiss  1184.0    100.00   VD  5858.0   \n",
       "9      26450  6440  2020.0     145.0     grau  6440.0     99.54   SZ  1364.0   \n",
       "10     43899  8580  2017.0     525.0     blau  8580.0      0.51   SG  3202.0   \n",
       "11     96699  8580  2021.0     573.0    weiss  8580.0      0.51   SG  3202.0   \n",
       "...      ...   ...     ...       ...      ...     ...       ...  ...     ...   \n",
       "2206   79900  1163  2022.0     299.0    weiss  1163.0    100.00   VD  5636.0   \n",
       "2207   36890  1219  2021.0     136.0    weiss  1219.0     51.74   GE  6643.0   \n",
       "2208  112790  4310  2022.0     503.0  schwarz  4310.0     98.50   AG  4258.0   \n",
       "2210   49800  3322  2022.0     218.0     blau  3322.0    100.00   BE   543.0   \n",
       "2212   86100  8706  2021.0     503.0     grau  8706.0    100.00   ZH   156.0   \n",
       "\n",
       "           GDENAMK  Hist.-Nummer Kanton  Bezirks-nummer      Bezirksname  \\\n",
       "1     Bürglen (UR)       11506.0     UR           400.0          Kt. Uri   \n",
       "3            Luins       14638.0     VD          2228.0             Nyon   \n",
       "9        Ingenbohl       12657.0     SZ           506.0           Schwyz   \n",
       "10          Muolen       14379.0     SG          1721.0       St. Gallen   \n",
       "11          Muolen       14379.0     SG          1721.0       St. Gallen   \n",
       "...            ...           ...    ...             ...              ...   \n",
       "2206          Etoy       14703.0     VD          2227.0           Morges   \n",
       "2207       Vernier       10918.0     GE          2500.0  Cant. de Genève   \n",
       "2208   Rheinfelden       12911.0     AG          1909.0      Rheinfelden   \n",
       "2210   Mattstetten       15122.0     BE           246.0  Bern-Mittelland   \n",
       "2212        Meilen       12408.0     ZH           107.0           Meilen   \n",
       "\n",
       "      BFS Gde-nummer  Gemeindename Datum der Aufnahme  \n",
       "1               1205  Bürglen (UR)         1848-09-12  \n",
       "3               5858         Luins         2006-09-01  \n",
       "9               1364     Ingenbohl         1848-09-12  \n",
       "10              3202        Muolen         2003-01-01  \n",
       "11              3202        Muolen         2003-01-01  \n",
       "...              ...           ...                ...  \n",
       "2206            5636          Etoy         2006-09-01  \n",
       "2207            6643       Vernier         1848-09-12  \n",
       "2208            4258   Rheinfelden         1848-09-12  \n",
       "2210             543   Mattstetten         2010-01-01  \n",
       "2212             156        Meilen         1848-09-12  \n",
       "\n",
       "[962 rows x 20 columns]"
      ]
     },
     "execution_count": 2,
     "metadata": {},
     "output_type": "execute_result"
    }
   ],
   "source": [
    "autos_orig = pd.read_csv('../Ausgabedateien/autos_aufbereitet.csv') #CSV from Ausgabendatei\n",
    "autos_orig[\"Preis\"] = autos_orig[\"Preis\"].str.replace(\"'\", \"\").str.strip()\n",
    "autos_na =autos_orig.dropna(subset=['Preis', 'ps-stand', 'jahr'])\n",
    "autos_na"
   ]
  },
  {
   "attachments": {},
   "cell_type": "markdown",
   "metadata": {},
   "source": [
    "## Train / Test Sample erstellen für ein einfaches Regressionsmodelll\n",
    "Es muss ein Train / Test Sample erstellt werden. Das modelll soll den Preis voraussagen können in Abhängigkeit zur Variable PS-Stand"
   ]
  },
  {
   "cell_type": "code",
   "execution_count": 3,
   "metadata": {},
   "outputs": [
    {
     "name": "stdout",
     "output_type": "stream",
     "text": [
      "Anzahl Werte für das Training 673\n",
      "Anzahl Werte für den Test 289\n"
     ]
    }
   ],
   "source": [
    "x = autos_na['ps-stand'].astype(float)\n",
    "y = autos_na['Preis'].astype(float)\n",
    "\n",
    "\n",
    "X_train, X_test, y_train, y_test = train_test_split(x, \n",
    "                                                    y, \n",
    "                                                    test_size=0.30, \n",
    "                                                    random_state=42)\n",
    "\n",
    "print(\"Anzahl Werte für das Training\", (len(X_train)))\n",
    "print(\"Anzahl Werte für den Test\", (len(X_test)))\n",
    "\n",
    "\n",
    "\n"
   ]
  },
  {
   "cell_type": "code",
   "execution_count": 4,
   "metadata": {},
   "outputs": [
    {
     "name": "stdout",
     "output_type": "stream",
     "text": [
      "Linear regression result:\n",
      "Intercept with y-axis (alpha):            23856.69\n",
      "Slope of regression line (beta):          124.519\n",
      "p-value:                                  0.0000\n",
      "R-squared (coefficient of determination): 0.4596\n"
     ]
    }
   ],
   "source": [
    "# with stats.linregress one can extract the important key figures \n",
    "slope, intercept, r, p, std_err = stats.linregress(X_train, y_train)\n",
    "\n",
    "\n",
    "print('Linear regression result:')\n",
    "print(f'Intercept with y-axis (alpha):            {intercept:.2f}')\n",
    "print(f'Slope of regression line (beta):          {slope:.3f}')\n",
    "print(f'p-value:                                  {p:.4f}')\n",
    "print(f'R-squared (coefficient of determination): {r**2:.4f}')"
   ]
  },
  {
   "cell_type": "code",
   "execution_count": null,
   "metadata": {},
   "outputs": [],
   "source": []
  },
  {
   "cell_type": "code",
   "execution_count": 5,
   "metadata": {},
   "outputs": [
    {
     "name": "stdout",
     "output_type": "stream",
     "text": [
      "LinregressResult(slope=124.51896894224704, intercept=23856.68766730349, rvalue=0.6779291866832006, pvalue=9.67640664347888e-92, stderr=5.212576277212048, intercept_stderr=1512.3299933869505)\n"
     ]
    }
   ],
   "source": [
    "# here the output of stats.linregress is stored in the array \"lin_ou\" we will later use this to \n",
    "# create the Model\n",
    "lin_out = stats.linregress(X_train, y_train)\n",
    "\n",
    "# the single elements can be selected with lin_out[x]\n",
    "print(lin_out)\n"
   ]
  },
  {
   "attachments": {},
   "cell_type": "markdown",
   "metadata": {},
   "source": [
    "## Graphisches Herleitung des einfachen Regressioin-modellls"
   ]
  },
  {
   "cell_type": "code",
   "execution_count": 24,
   "metadata": {},
   "outputs": [
    {
     "data": {
      "image/png": "[encoded data removed]",
      "text/plain": [
       "<Figure size 432x288 with 1 Axes>"
      ]
     },
     "metadata": {
      "needs_background": "light"
     },
     "output_type": "display_data"
    }
   ],
   "source": [
    "plt.scatter(x,y)\n",
    "plt.ylabel(\"Price\", fontsize = 18)\n",
    "plt.xlabel(\"Horse Power\", fontsize = 18)\n",
    "plt.title('Scatter Plot \\n', fontweight =\"bold\", fontsize = 25, fontname = \"Arial\")\n",
    "plt.tick_params(labelsize=18)"
   ]
  },
  {
   "attachments": {},
   "cell_type": "markdown",
   "metadata": {},
   "source": [
    "Hier wird das modell definiert. Dafür werden die Werte aus \"stats.lingress\" verwendet. Die Formel für lineare Regression lautet: y = a + b * x"
   ]
  },
  {
   "cell_type": "code",
   "execution_count": 7,
   "metadata": {},
   "outputs": [],
   "source": [
    "def modell(x):\n",
    "    return lin_out[0] * x + lin_out[1]"
   ]
  },
  {
   "attachments": {},
   "cell_type": "markdown",
   "metadata": {},
   "source": [
    "Der Untenstehnde Graph zeigt nun die bestmögliche Gerade im Scatter-Plot auf (grüne Linie). Ständige Vorhersagen befinden sich auf dieser Gerade. "
   ]
  },
  {
   "cell_type": "code",
   "execution_count": 26,
   "metadata": {},
   "outputs": [
    {
     "data": {
      "image/png": "[encoded data removed]",
      "text/plain": [
       "<Figure size 432x288 with 1 Axes>"
      ]
     },
     "metadata": {
      "needs_background": "light"
     },
     "output_type": "display_data"
    }
   ],
   "source": [
    "mymodell = pd.Series(map(modell, X_train))\n",
    "\n",
    "plt.scatter(x,y)\n",
    "plt.plot(X_train, mymodell, color='green')\n",
    "plt.ylabel(\"Price\", fontsize = 18)\n",
    "plt.xlabel(\"Horse Power\", fontsize = 18)\n",
    "plt.title('Scatter Plot with regression-line\\n', fontweight =\"bold\", fontsize = 25, fontname = \"Arial\")\n",
    "plt.tick_params(labelsize=18)"
   ]
  },
  {
   "attachments": {},
   "cell_type": "markdown",
   "metadata": {},
   "source": [
    "## Überprüfung des Einfachen Regressionsmodellls\n",
    "mit dem erstellten Regressionsmodelll (Funktion: modell) können nun Preisvorhersagen getroffen werden. Mit dem Test-Datensatz kann anschliessend geprüft werden, wie akurat die Schätzung war."
   ]
  },
  {
   "cell_type": "code",
   "execution_count": 9,
   "metadata": {},
   "outputs": [
    {
     "name": "stdout",
     "output_type": "stream",
     "text": [
      "Ergebnis Regressionsmodell: 46768.177952676946 \n",
      "Tatsächliches Ergebnis (Testdatei): 31900.0\n"
     ]
    }
   ],
   "source": [
    "print(\"Ergebnis Regressionsmodell:\",modell(184), \"\\nTatsächliches Ergebnis (Testdatei):\", y_test[789])"
   ]
  },
  {
   "attachments": {},
   "cell_type": "markdown",
   "metadata": {},
   "source": [
    "Um sich ein besseres Bild der Qultät des modellls zu verschaffen, werden nun alle Differenzen zwischen den beobachteten(tatsächlichen) und den geschätzen Preisen in einer Liste abgespeichert. Diese differenzen referenzieren wir fortan als Residuen. "
   ]
  },
  {
   "cell_type": "code",
   "execution_count": 10,
   "metadata": {},
   "outputs": [
    {
     "name": "stdout",
     "output_type": "stream",
     "text": [
      "Geschätzer pries: 46768.177952676946 , Tatsächlicher Preis 31900.0\n",
      "Geschätzer pries: 64574.39051141827 , Tatsächlicher Preis 94950.0\n",
      "Geschätzer pries: 59469.11278478615 , Tatsächlicher Preis 68900.0\n",
      "Geschätzer pries: 39048.00187825763 , Tatsächlicher Preis 44527.0\n",
      "Geschätzer pries: 49258.557331521886 , Tatsächlicher Preis 61900.0\n",
      "Geschätzer pries: 93836.34821284632 , Tatsächlicher Preis 79900.0\n",
      "Geschätzer pries: 40791.26744344909 , Tatsächlicher Preis 43200.0\n",
      "Geschätzer pries: 61087.85938103535 , Tatsächlicher Preis 76640.0\n",
      "Geschätzer pries: 49258.557331521886 , Tatsächlicher Preis 39999.0\n",
      "Geschätzer pries: 49258.557331521886 , Tatsächlicher Preis 69800.0\n",
      "Geschätzer pries: 61087.85938103535 , Tatsächlicher Preis 61800.0\n",
      "Geschätzer pries: 64574.39051141827 , Tatsächlicher Preis 101400.0\n",
      "Geschätzer pries: 46270.10207690796 , Tatsächlicher Preis 49990.0\n",
      "Geschätzer pries: 61087.85938103535 , Tatsächlicher Preis 79900.0\n",
      "Geschätzer pries: 87734.91873467622 , Tatsächlicher Preis 55900.0\n",
      "Geschätzer pries: 61212.378349977604 , Tatsächlicher Preis 66550.0\n",
      "Geschätzer pries: 34814.35693422123 , Tatsächlicher Preis 12890.0\n",
      "Geschätzer pries: 49258.557331521886 , Tatsächlicher Preis 46980.0\n",
      "Geschätzer pries: 61087.85938103535 , Tatsächlicher Preis 71900.0\n",
      "Geschätzer pries: 49258.557331521886 , Tatsächlicher Preis 46450.0\n",
      "Geschätzer pries: 51001.82289671335 , Tatsächlicher Preis 48450.0\n",
      "Geschätzer pries: 40791.26744344909 , Tatsächlicher Preis 29500.0\n",
      "Geschätzer pries: 56854.214436998955 , Tatsächlicher Preis 63500.0\n",
      "Geschätzer pries: 38549.92600248864 , Tatsächlicher Preis 35530.0\n",
      "Geschätzer pries: 49258.557331521886 , Tatsächlicher Preis 43900.0\n",
      "Geschätzer pries: 42534.533008640545 , Tatsächlicher Preis 27500.0\n",
      "Geschätzer pries: 83127.71688381307 , Tatsächlicher Preis 122900.0\n",
      "Geschätzer pries: 74660.42699574029 , Tatsächlicher Preis 63878.0\n",
      "Geschätzer pries: 49258.557331521886 , Tatsächlicher Preis 59900.0\n",
      "Geschätzer pries: 49258.557331521886 , Tatsächlicher Preis 45800.0\n",
      "Geschätzer pries: 29460.041269704605 , Tatsächlicher Preis 20100.0\n",
      "Geschätzer pries: 49258.557331521886 , Tatsächlicher Preis 49900.0\n",
      "Geschätzer pries: 64325.352573533775 , Tatsächlicher Preis 66990.0\n",
      "Geschätzer pries: 85867.13420054251 , Tatsächlicher Preis 54900.0\n",
      "Geschätzer pries: 49258.557331521886 , Tatsächlicher Preis 83500.0\n",
      "Geschätzer pries: 51001.82289671335 , Tatsächlicher Preis 49800.0\n",
      "Geschätzer pries: 83127.71688381307 , Tatsächlicher Preis 41800.0\n",
      "Geschätzer pries: 49258.557331521886 , Tatsächlicher Preis 45800.0\n",
      "Geschätzer pries: 56854.214436998955 , Tatsächlicher Preis 61900.0\n",
      "Geschätzer pries: 61959.49216363109 , Tatsächlicher Preis 59900.0\n",
      "Geschätzer pries: 52620.56949296256 , Tatsächlicher Preis 48700.0\n",
      "Geschätzer pries: 49258.557331521886 , Tatsächlicher Preis 49970.0\n",
      "Geschätzer pries: 45024.912387485485 , Tatsächlicher Preis 59900.0\n",
      "Geschätzer pries: 61087.85938103535 , Tatsächlicher Preis 59999.0\n",
      "Geschätzer pries: 40666.748474506836 , Tatsächlicher Preis 39900.0\n",
      "Geschätzer pries: 73664.2752442023 , Tatsächlicher Preis 55889.0\n",
      "Geschätzer pries: 38798.963940373134 , Tatsächlicher Preis 24950.0\n",
      "Geschätzer pries: 49258.557331521886 , Tatsächlicher Preis 46980.0\n",
      "Geschätzer pries: 61087.85938103535 , Tatsächlicher Preis 69990.0\n",
      "Geschätzer pries: 61087.85938103535 , Tatsächlicher Preis 77900.0\n",
      "Geschätzer pries: 45024.912387485485 , Tatsächlicher Preis 39900.0\n",
      "Geschätzer pries: 40791.26744344909 , Tatsächlicher Preis 35500.0\n",
      "Geschätzer pries: 89229.14636198319 , Tatsächlicher Preis 47700.0\n",
      "Geschätzer pries: 74660.42699574029 , Tatsächlicher Preis 55880.0\n",
      "Geschätzer pries: 74660.42699574029 , Tatsächlicher Preis 99900.0\n",
      "Geschätzer pries: 89229.14636198319 , Tatsächlicher Preis 37900.0\n",
      "Geschätzer pries: 50877.30392777109 , Tatsächlicher Preis 36800.0\n",
      "Geschätzer pries: 49258.557331521886 , Tatsächlicher Preis 39790.0\n",
      "Geschätzer pries: 46768.177952676946 , Tatsächlicher Preis 29900.0\n",
      "Geschätzer pries: 74660.42699574029 , Tatsächlicher Preis 61650.0\n",
      "Geschätzer pries: 64574.39051141827 , Tatsächlicher Preis 93900.0\n",
      "Geschätzer pries: 88980.1084240987 , Tatsächlicher Preis 132500.0\n",
      "Geschätzer pries: 57352.290312767946 , Tatsächlicher Preis 58900.0\n",
      "Geschätzer pries: 51001.82289671335 , Tatsächlicher Preis 54700.0\n",
      "Geschätzer pries: 49258.557331521886 , Tatsächlicher Preis 83900.0\n",
      "Geschätzer pries: 34191.76208951 , Tatsächlicher Preis 22900.0\n",
      "Geschätzer pries: 49258.557331521886 , Tatsächlicher Preis 85900.0\n",
      "Geschätzer pries: 40791.26744344909 , Tatsächlicher Preis 46990.0\n",
      "Geschätzer pries: 61087.85938103535 , Tatsächlicher Preis 79970.0\n",
      "Geschätzer pries: 46768.177952676946 , Tatsächlicher Preis 34800.0\n",
      "Geschätzer pries: 51001.82289671335 , Tatsächlicher Preis 49000.0\n",
      "Geschätzer pries: 70053.22514487714 , Tatsächlicher Preis 71500.0\n",
      "Geschätzer pries: 49258.557331521886 , Tatsächlicher Preis 62900.0\n",
      "Geschätzer pries: 49258.557331521886 , Tatsächlicher Preis 54200.0\n",
      "Geschätzer pries: 39048.00187825763 , Tatsächlicher Preis 100652.0\n",
      "Geschätzer pries: 83127.71688381307 , Tatsächlicher Preis 116900.0\n",
      "Geschätzer pries: 49258.557331521886 , Tatsächlicher Preis 42800.0\n",
      "Geschätzer pries: 40791.26744344909 , Tatsächlicher Preis 38900.0\n",
      "Geschätzer pries: 70053.22514487714 , Tatsächlicher Preis 58900.0\n",
      "Geschätzer pries: 45024.912387485485 , Tatsächlicher Preis 24800.0\n",
      "Geschätzer pries: 74660.42699574029 , Tatsächlicher Preis 57900.0\n",
      "Geschätzer pries: 49258.557331521886 , Tatsächlicher Preis 63300.0\n",
      "Geschätzer pries: 49258.557331521886 , Tatsächlicher Preis 46900.0\n",
      "Geschätzer pries: 59469.11278478615 , Tatsächlicher Preis 61800.0\n",
      "Geschätzer pries: 91595.00677188588 , Tatsächlicher Preis 88800.0\n",
      "Geschätzer pries: 45024.912387485485 , Tatsächlicher Preis 59900.0\n",
      "Geschätzer pries: 40791.26744344909 , Tatsächlicher Preis 39900.0\n",
      "Geschätzer pries: 45024.912387485485 , Tatsächlicher Preis 29800.0\n",
      "Geschätzer pries: 46270.10207690796 , Tatsächlicher Preis 48500.0\n",
      "Geschätzer pries: 49258.557331521886 , Tatsächlicher Preis 56270.0\n",
      "Geschätzer pries: 40791.26744344909 , Tatsächlicher Preis 37990.0\n",
      "Geschätzer pries: 74660.42699574029 , Tatsächlicher Preis 104070.0\n",
      "Geschätzer pries: 45024.912387485485 , Tatsächlicher Preis 27800.0\n",
      "Geschätzer pries: 49258.557331521886 , Tatsächlicher Preis 38400.0\n",
      "Geschätzer pries: 40791.26744344909 , Tatsächlicher Preis 35900.0\n",
      "Geschätzer pries: 34067.24312056775 , Tatsächlicher Preis 22940.0\n",
      "Geschätzer pries: 40791.26744344909 , Tatsächlicher Preis 43200.0\n",
      "Geschätzer pries: 61087.85938103535 , Tatsächlicher Preis 71900.0\n",
      "Geschätzer pries: 74660.42699574029 , Tatsächlicher Preis 66950.0\n",
      "Geschätzer pries: 49258.557331521886 , Tatsächlicher Preis 49900.0\n",
      "Geschätzer pries: 89229.14636198319 , Tatsächlicher Preis 52500.0\n",
      "Geschätzer pries: 85867.13420054251 , Tatsächlicher Preis 59800.0\n",
      "Geschätzer pries: 49258.557331521886 , Tatsächlicher Preis 84900.0\n",
      "Geschätzer pries: 49258.557331521886 , Tatsächlicher Preis 84900.0\n",
      "Geschätzer pries: 49258.557331521886 , Tatsächlicher Preis 53550.0\n",
      "Geschätzer pries: 51001.82289671335 , Tatsächlicher Preis 49250.0\n",
      "Geschätzer pries: 34067.24312056775 , Tatsächlicher Preis 23900.0\n",
      "Geschätzer pries: 43032.608884409536 , Tatsächlicher Preis 29900.0\n",
      "Geschätzer pries: 74660.42699574029 , Tatsächlicher Preis 84990.0\n",
      "Geschätzer pries: 40791.26744344909 , Tatsächlicher Preis 34500.0\n",
      "Geschätzer pries: 49258.557331521886 , Tatsächlicher Preis 41900.0\n",
      "Geschätzer pries: 49258.557331521886 , Tatsächlicher Preis 52990.0\n",
      "Geschätzer pries: 46768.177952676946 , Tatsächlicher Preis 37900.0\n",
      "Geschätzer pries: 49258.557331521886 , Tatsächlicher Preis 47900.0\n",
      "Geschätzer pries: 49258.557331521886 , Tatsächlicher Preis 84800.0\n",
      "Geschätzer pries: 74660.42699574029 , Tatsächlicher Preis 62200.0\n",
      "Geschätzer pries: 40791.26744344909 , Tatsächlicher Preis 31673.0\n",
      "Geschätzer pries: 61087.85938103535 , Tatsächlicher Preis 69890.0\n",
      "Geschätzer pries: 38549.92600248864 , Tatsächlicher Preis 37200.0\n",
      "Geschätzer pries: 38674.44497143089 , Tatsächlicher Preis 30800.0\n",
      "Geschätzer pries: 49258.557331521886 , Tatsächlicher Preis 50990.0\n",
      "Geschätzer pries: 89104.62739304094 , Tatsächlicher Preis 178500.0\n",
      "Geschätzer pries: 37678.29321989291 , Tatsächlicher Preis 51900.0\n",
      "Geschätzer pries: 61087.85938103535 , Tatsächlicher Preis 58600.0\n",
      "Geschätzer pries: 86489.72904525376 , Tatsächlicher Preis 91800.0\n",
      "Geschätzer pries: 51001.82289671335 , Tatsächlicher Preis 47888.0\n",
      "Geschätzer pries: 61087.85938103535 , Tatsächlicher Preis 67900.0\n",
      "Geschätzer pries: 48013.367642099416 , Tatsächlicher Preis 92500.0\n",
      "Geschätzer pries: 40791.26744344909 , Tatsächlicher Preis 34900.0\n",
      "Geschätzer pries: 49258.557331521886 , Tatsächlicher Preis 61890.0\n",
      "Geschätzer pries: 61087.85938103535 , Tatsächlicher Preis 54990.0\n",
      "Geschätzer pries: 49258.557331521886 , Tatsächlicher Preis 53990.0\n",
      "Geschätzer pries: 86489.72904525376 , Tatsächlicher Preis 79490.0\n",
      "Geschätzer pries: 70053.22514487714 , Tatsächlicher Preis 71900.0\n",
      "Geschätzer pries: 61087.85938103535 , Tatsächlicher Preis 69520.0\n",
      "Geschätzer pries: 38674.44497143089 , Tatsächlicher Preis 35900.0\n",
      "Geschätzer pries: 49258.557331521886 , Tatsächlicher Preis 38900.0\n",
      "Geschätzer pries: 45024.912387485485 , Tatsächlicher Preis 25500.0\n",
      "Geschätzer pries: 64325.352573533775 , Tatsächlicher Preis 68230.0\n",
      "Geschätzer pries: 46768.177952676946 , Tatsächlicher Preis 46160.0\n",
      "Geschätzer pries: 49258.557331521886 , Tatsächlicher Preis 47200.0\n",
      "Geschätzer pries: 40791.26744344909 , Tatsächlicher Preis 34900.0\n",
      "Geschätzer pries: 38300.88806460415 , Tatsächlicher Preis 17900.0\n",
      "Geschätzer pries: 46270.10207690796 , Tatsächlicher Preis 48900.0\n",
      "Geschätzer pries: 45024.912387485485 , Tatsächlicher Preis 60780.0\n",
      "Geschätzer pries: 74660.42699574029 , Tatsächlicher Preis 76900.0\n",
      "Geschätzer pries: 34067.24312056775 , Tatsächlicher Preis 23900.0\n",
      "Geschätzer pries: 49258.557331521886 , Tatsächlicher Preis 82500.0\n",
      "Geschätzer pries: 52620.56949296256 , Tatsächlicher Preis 49900.0\n",
      "Geschätzer pries: 40791.26744344909 , Tatsächlicher Preis 52490.0\n",
      "Geschätzer pries: 94957.01893332654 , Tatsächlicher Preis 159900.0\n",
      "Geschätzer pries: 45024.912387485485 , Tatsächlicher Preis 23900.0\n",
      "Geschätzer pries: 61087.85938103535 , Tatsächlicher Preis 69970.0\n",
      "Geschätzer pries: 64325.352573533775 , Tatsächlicher Preis 64490.0\n",
      "Geschätzer pries: 40791.26744344909 , Tatsächlicher Preis 39200.0\n",
      "Geschätzer pries: 91595.00677188588 , Tatsächlicher Preis 102900.0\n",
      "Geschätzer pries: 64325.352573533775 , Tatsächlicher Preis 70150.0\n",
      "Geschätzer pries: 64325.352573533775 , Tatsächlicher Preis 64900.0\n",
      "Geschätzer pries: 83127.71688381307 , Tatsächlicher Preis 43800.0\n",
      "Geschätzer pries: 49258.557331521886 , Tatsächlicher Preis 42900.0\n",
      "Geschätzer pries: 61959.49216363109 , Tatsächlicher Preis 54900.0\n",
      "Geschätzer pries: 61087.85938103535 , Tatsächlicher Preis 71890.0\n",
      "Geschätzer pries: 74660.42699574029 , Tatsächlicher Preis 89790.0\n",
      "Geschätzer pries: 49258.557331521886 , Tatsächlicher Preis 82900.0\n",
      "Geschätzer pries: 45024.912387485485 , Tatsächlicher Preis 29900.0\n",
      "Geschätzer pries: 62831.12494622682 , Tatsächlicher Preis 62900.0\n",
      "Geschätzer pries: 41911.93816392931 , Tatsächlicher Preis 29900.0\n",
      "Geschätzer pries: 89229.14636198319 , Tatsächlicher Preis 74900.0\n",
      "Geschätzer pries: 89229.14636198319 , Tatsächlicher Preis 16999.0\n",
      "Geschätzer pries: 74660.42699574029 , Tatsächlicher Preis 57500.0\n",
      "Geschätzer pries: 49258.557331521886 , Tatsächlicher Preis 49900.0\n",
      "Geschätzer pries: 49258.557331521886 , Tatsächlicher Preis 39000.0\n",
      "Geschätzer pries: 60216.22659843962 , Tatsächlicher Preis 68800.0\n",
      "Geschätzer pries: 49258.557331521886 , Tatsächlicher Preis 35900.0\n",
      "Geschätzer pries: 88980.1084240987 , Tatsächlicher Preis 139800.0\n",
      "Geschätzer pries: 40791.26744344909 , Tatsächlicher Preis 31500.0\n",
      "Geschätzer pries: 74660.42699574029 , Tatsächlicher Preis 85900.0\n",
      "Geschätzer pries: 34067.24312056775 , Tatsächlicher Preis 24900.0\n",
      "Geschätzer pries: 46270.10207690796 , Tatsächlicher Preis 53800.0\n",
      "Geschätzer pries: 61087.85938103535 , Tatsächlicher Preis 69970.0\n",
      "Geschätzer pries: 51001.82289671335 , Tatsächlicher Preis 49950.0\n",
      "Geschätzer pries: 49258.557331521886 , Tatsächlicher Preis 55580.0\n",
      "Geschätzer pries: 40791.26744344909 , Tatsächlicher Preis 41400.0\n",
      "Geschätzer pries: 46270.10207690796 , Tatsächlicher Preis 19900.0\n",
      "Geschätzer pries: 61087.85938103535 , Tatsächlicher Preis 76990.0\n",
      "Geschätzer pries: 85867.13420054251 , Tatsächlicher Preis 55900.0\n",
      "Geschätzer pries: 64574.39051141827 , Tatsächlicher Preis 109900.0\n",
      "Geschätzer pries: 50877.30392777109 , Tatsächlicher Preis 34900.0\n",
      "Geschätzer pries: 42036.457132871554 , Tatsächlicher Preis 33900.0\n",
      "Geschätzer pries: 104295.94160399507 , Tatsächlicher Preis 122980.0\n",
      "Geschätzer pries: 61212.378349977604 , Tatsächlicher Preis 69500.0\n",
      "Geschätzer pries: 49258.557331521886 , Tatsächlicher Preis 59890.0\n",
      "Geschätzer pries: 57352.290312767946 , Tatsächlicher Preis 66640.0\n",
      "Geschätzer pries: 64325.352573533775 , Tatsächlicher Preis 66600.0\n",
      "Geschätzer pries: 83127.71688381307 , Tatsächlicher Preis 117990.0\n",
      "Geschätzer pries: 39048.00187825763 , Tatsächlicher Preis 35177.0\n",
      "Geschätzer pries: 49258.557331521886 , Tatsächlicher Preis 64900.0\n",
      "Geschätzer pries: 40791.26744344909 , Tatsächlicher Preis 31300.0\n",
      "Geschätzer pries: 74660.42699574029 , Tatsächlicher Preis 62330.0\n",
      "Geschätzer pries: 61087.85938103535 , Tatsächlicher Preis 61900.0\n",
      "Geschätzer pries: 64325.352573533775 , Tatsächlicher Preis 68500.0\n"
     ]
    }
   ],
   "source": [
    "i = 0\n",
    "residuals = []\n",
    "while i <= 200:\n",
    "   test = X_test.iloc[i]\n",
    "   print(\"Geschätzer pries:\", modell(test), \", Tatsächlicher Preis\", y_test.iloc[i])\n",
    "   calculation = modell(test)-y_test.iloc[i]\n",
    "   residuals.append(calculation)\n",
    "   i = i + 1"
   ]
  },
  {
   "cell_type": "code",
   "execution_count": 11,
   "metadata": {},
   "outputs": [
    {
     "data": {
      "text/plain": [
       "[14868.177952676946,\n",
       " -30375.60948858173,\n",
       " -9430.88721521385,\n",
       " -5478.99812174237,\n",
       " -12641.442668478114,\n",
       " 13936.348212846322,\n",
       " -2408.732556550909,\n",
       " -15552.140618964651,\n",
       " 9259.557331521886,\n",
       " -20541.442668478114,\n",
       " -712.1406189646514,\n",
       " -36825.60948858173,\n",
       " -3719.8979230920377,\n",
       " -18812.14061896465,\n",
       " 31834.91873467622,\n",
       " -5337.621650022396,\n",
       " 21924.35693422123,\n",
       " 2278.557331521886,\n",
       " -10812.140618964651,\n",
       " 2808.557331521886,\n",
       " 2551.8228967133473,\n",
       " 11291.267443449091,\n",
       " -6645.785563001045,\n",
       " 3019.926002488639,\n",
       " 5358.557331521886,\n",
       " 15034.533008640545,\n",
       " -39772.283116186925,\n",
       " 10782.426995740287,\n",
       " -10641.442668478114,\n",
       " 3458.557331521886,\n",
       " 9360.041269704605,\n",
       " -641.4426684781138,\n",
       " -2664.6474264662247,\n",
       " 30967.13420054251,\n",
       " -34241.442668478114,\n",
       " 1201.8228967133473,\n",
       " 41327.716883813075,\n",
       " 3458.557331521886,\n",
       " -5045.785563001045,\n",
       " 2059.49216363109,\n",
       " 3920.5694929625606,\n",
       " -711.4426684781138,\n",
       " -14875.087612514515,\n",
       " 1088.8593810353486,\n",
       " 766.7484745068359,\n",
       " 17775.275244202305,\n",
       " 13848.963940373134,\n",
       " 2278.557331521886,\n",
       " -8902.140618964651,\n",
       " -16812.14061896465,\n",
       " 5124.912387485485,\n",
       " 5291.267443449091,\n",
       " 41529.14636198319,\n",
       " 18780.426995740287,\n",
       " -25239.573004259713,\n",
       " 51329.14636198319,\n",
       " 14077.303927771092,\n",
       " 9468.557331521886,\n",
       " 16868.177952676946,\n",
       " 13010.426995740287,\n",
       " -29325.60948858173,\n",
       " -43519.8915759013,\n",
       " -1547.7096872320544,\n",
       " -3698.1771032866527,\n",
       " -34641.442668478114,\n",
       " 11291.762089509997,\n",
       " -36641.442668478114,\n",
       " -6198.732556550909,\n",
       " -18882.14061896465,\n",
       " 11968.177952676946,\n",
       " 2001.8228967133473,\n",
       " -1446.7748551228578,\n",
       " -13641.442668478114,\n",
       " -4941.442668478114,\n",
       " -61603.99812174237,\n",
       " -33772.283116186925,\n",
       " 6458.557331521886,\n",
       " 1891.267443449091,\n",
       " 11153.225144877142,\n",
       " 20224.912387485485,\n",
       " 16760.426995740287,\n",
       " -14041.442668478114,\n",
       " 2358.557331521886,\n",
       " -2330.88721521385,\n",
       " 2795.0067718858772,\n",
       " -14875.087612514515,\n",
       " 891.2674434490909,\n",
       " 15224.912387485485,\n",
       " -2229.8979230920377,\n",
       " -7011.442668478114,\n",
       " 2801.267443449091,\n",
       " -29409.573004259713,\n",
       " 17224.912387485485,\n",
       " 10858.557331521886,\n",
       " 4891.267443449091,\n",
       " 11127.24312056775,\n",
       " -2408.732556550909,\n",
       " -10812.140618964651,\n",
       " 7710.426995740287,\n",
       " -641.4426684781138,\n",
       " 36729.14636198319,\n",
       " 26067.13420054251,\n",
       " -35641.442668478114,\n",
       " -35641.442668478114,\n",
       " -4291.442668478114,\n",
       " 1751.8228967133473,\n",
       " 10167.24312056775,\n",
       " 13132.608884409536,\n",
       " -10329.573004259713,\n",
       " 6291.267443449091,\n",
       " 7358.557331521886,\n",
       " -3731.442668478114,\n",
       " 8868.177952676946,\n",
       " 1358.5573315218862,\n",
       " -35541.442668478114,\n",
       " 12460.426995740287,\n",
       " 9118.267443449091,\n",
       " -8802.140618964651,\n",
       " 1349.926002488639,\n",
       " 7874.444971430887,\n",
       " -1731.4426684781138,\n",
       " -89395.37260695906,\n",
       " -14221.706780107088,\n",
       " 2487.8593810353486,\n",
       " -5310.270954746244,\n",
       " 3113.8228967133473,\n",
       " -6812.140618964651,\n",
       " -44486.632357900584,\n",
       " 5891.267443449091,\n",
       " -12631.442668478114,\n",
       " 6097.859381035349,\n",
       " -4731.442668478114,\n",
       " 6999.729045253756,\n",
       " -1846.7748551228578,\n",
       " -8432.140618964651,\n",
       " 2774.4449714308867,\n",
       " 10358.557331521886,\n",
       " 19524.912387485485,\n",
       " -3904.6474264662247,\n",
       " 608.177952676946,\n",
       " 2058.557331521886,\n",
       " 5891.267443449091,\n",
       " 20400.88806460415,\n",
       " -2629.8979230920377,\n",
       " -15755.087612514515,\n",
       " -2239.5730042597133,\n",
       " 10167.24312056775,\n",
       " -33241.442668478114,\n",
       " 2720.5694929625606,\n",
       " -11698.732556550909,\n",
       " -64942.981066673456,\n",
       " 21124.912387485485,\n",
       " -8882.140618964651,\n",
       " -164.64742646622472,\n",
       " 1591.267443449091,\n",
       " -11304.993228114123,\n",
       " -5824.647426466225,\n",
       " -574.6474264662247,\n",
       " 39327.716883813075,\n",
       " 6358.557331521886,\n",
       " 7059.49216363109,\n",
       " -10802.140618964651,\n",
       " -15129.573004259713,\n",
       " -33641.442668478114,\n",
       " 15124.912387485485,\n",
       " -68.87505377318303,\n",
       " 12011.938163929313,\n",
       " 14329.146361983192,\n",
       " 72230.14636198319,\n",
       " 17160.426995740287,\n",
       " -641.4426684781138,\n",
       " 10258.557331521886,\n",
       " -8583.773401560378,\n",
       " 13358.557331521886,\n",
       " -50819.8915759013,\n",
       " 9291.267443449091,\n",
       " -11239.573004259713,\n",
       " 9167.24312056775,\n",
       " -7529.897923092038,\n",
       " -8882.140618964651,\n",
       " 1051.8228967133473,\n",
       " -6321.442668478114,\n",
       " -608.7325565509091,\n",
       " 26370.102076907962,\n",
       " -15902.140618964651,\n",
       " 29967.13420054251,\n",
       " -45325.60948858173,\n",
       " 15977.303927771092,\n",
       " 8136.457132871554,\n",
       " -18684.058396004926,\n",
       " -8287.621650022396,\n",
       " -10631.442668478114,\n",
       " -9287.709687232054,\n",
       " -2274.6474264662247,\n",
       " -34862.283116186925,\n",
       " 3871.00187825763,\n",
       " -15641.442668478114,\n",
       " 9491.267443449091,\n",
       " 12330.426995740287,\n",
       " -812.1406189646514,\n",
       " -4174.647426466225]"
      ]
     },
     "execution_count": 11,
     "metadata": {},
     "output_type": "execute_result"
    }
   ],
   "source": [
    "# Ausgabe der Residuen. \n",
    "residuals"
   ]
  },
  {
   "attachments": {},
   "cell_type": "markdown",
   "metadata": {},
   "source": [
    "Die Residuen werden in einem Graphen dargestellt. Je kleiner die Residuen sind desto kleiner ist der Unterschied zwischen den Geschätzten Werten des einfachen Regressionsmodells und den beobacheten Werten. Kleine Residuen deuten also auf ein gutes modell hin. Es ist im Graphen zu erkennen, dass die meisten Residuen um den Wert 0 bewegen. Es bestehen aber auch Residuen mit einer gorssen differenz. Grundsätzlich sollte das Modell aber relativ akkurate Vorhersagen treffen können. "
   ]
  },
  {
   "cell_type": "code",
   "execution_count": 33,
   "metadata": {},
   "outputs": [
    {
     "data": {
      "image/png": "[encoded data removed]",
      "text/plain": [
       "<Figure size 576x288 with 1 Axes>"
      ]
     },
     "metadata": {
      "needs_background": "light"
     },
     "output_type": "display_data"
    }
   ],
   "source": [
    "fig = plt.figure( figsize=(8,4))\n",
    "n, bins, patches = plt.hist(x=residuals, \n",
    "                            bins=20, \n",
    "                            color='red',\n",
    "                            alpha=0.5,\n",
    "                            rwidth=0.95\n",
    "                   )\n",
    "plt.ylabel(\"Predictions\", fontsize = 18)\n",
    "plt.xlabel(\"Deviation in CHF\", fontsize = 18)\n",
    "plt.title('Deviation of the Model\\n', fontweight =\"bold\", fontsize = 25, fontname = \"Arial\")\n",
    "plt.tick_params(labelsize=12)"
   ]
  },
  {
   "attachments": {},
   "cell_type": "markdown",
   "metadata": {},
   "source": [
    "Es ist zu erkennen, dass die meisten mit dem modell geschätzen Werte nur geringfügig von den tatsächlichen Werten abweichen "
   ]
  },
  {
   "attachments": {},
   "cell_type": "markdown",
   "metadata": {},
   "source": [
    "## Regressionsmodelll unter berücksichtigung einer weitern Variable (jahr)"
   ]
  },
  {
   "attachments": {},
   "cell_type": "markdown",
   "metadata": {},
   "source": [
    "Zuerst wird die Spalte \"jahr\" überprüft. Insbesondere unlogische Werte sollen ausgeschlossen werden. Auf dem Untenstehendne Graphen ist zu erkenne, wie die Werte Verteilt sind. Die überwiegende Mehrheit der Autos stammt aus den Jahrens 2020-2021."
   ]
  },
  {
   "cell_type": "code",
   "execution_count": 34,
   "metadata": {},
   "outputs": [
    {
     "data": {
      "image/png": "[encoded data removed]",
      "text/plain": [
       "<Figure size 432x288 with 1 Axes>"
      ]
     },
     "metadata": {
      "needs_background": "light"
     },
     "output_type": "display_data"
    }
   ],
   "source": [
    "plt.hist(autos_na.jahr)\n",
    "plt.ylabel(\"cars\", fontsize = 18)\n",
    "plt.xlabel(\"year\", fontsize = 18)\n",
    "plt.title('Distribution of Column \"jahr\"\\n', fontweight =\"bold\", fontsize = 25, fontname = \"Arial\")\n",
    "plt.tick_params(labelsize=12)"
   ]
  },
  {
   "cell_type": "code",
   "execution_count": 14,
   "metadata": {},
   "outputs": [
    {
     "data": {
      "text/plain": [
       "{'whiskers': [<matplotlib.lines.Line2D at 0x12f1cb2cd90>,\n",
       "  <matplotlib.lines.Line2D at 0x12f1cb3c0a0>],\n",
       " 'caps': [<matplotlib.lines.Line2D at 0x12f1cb3c370>,\n",
       "  <matplotlib.lines.Line2D at 0x12f1cb3c640>],\n",
       " 'boxes': [<matplotlib.lines.Line2D at 0x12f1cb2cac0>],\n",
       " 'medians': [<matplotlib.lines.Line2D at 0x12f1cb3c910>],\n",
       " 'fliers': [<matplotlib.lines.Line2D at 0x12f1cb3cbe0>],\n",
       " 'means': []}"
      ]
     },
     "execution_count": 14,
     "metadata": {},
     "output_type": "execute_result"
    },
    {
     "data": {
      "image/png": "[encoded data removed]",
      "text/plain": [
       "<Figure size 432x288 with 1 Axes>"
      ]
     },
     "metadata": {
      "needs_background": "light"
     },
     "output_type": "display_data"
    }
   ],
   "source": [
    "#Mit dem Boxplot soll die Verteilung etwas genauer dargestellt werden. Insbesondere die Ausreisser werden genau ausgewiesen. \n",
    "plt.boxplot(autos_na.jahr, vert=False)"
   ]
  },
  {
   "attachments": {},
   "cell_type": "markdown",
   "metadata": {},
   "source": [
    "Die untenstehdne Überprüfung der Minimalen und Maximalen Werte ergibt, dass das älteste Auto us dem jahr 2011 und das neuste aus 2022 Stammt. Dies sind plausieble Zahlen. Somit müssen keine Werte exkludiert werden"
   ]
  },
  {
   "cell_type": "code",
   "execution_count": 35,
   "metadata": {},
   "outputs": [
    {
     "name": "stdout",
     "output_type": "stream",
     "text": [
      "smallest value  2011.0\n",
      "biggest value  2022.0\n"
     ]
    }
   ],
   "source": [
    "print(\"smallest value \", np.min(autos_na.jahr))\n",
    "print(\"biggest value \", np.max(autos_na.jahr))\n"
   ]
  },
  {
   "attachments": {},
   "cell_type": "markdown",
   "metadata": {},
   "source": [
    "## Erstellen des Multiplen Regressionsmodells\n",
    "Wie bei der einfachen Linearen regression wird zuerst ein train-/testsample kreiert. Der einzige Unterschied besteht darin, dass zwei Variabeln für x verwendet werden. "
   ]
  },
  {
   "cell_type": "code",
   "execution_count": 16,
   "metadata": {},
   "outputs": [
    {
     "name": "stdout",
     "output_type": "stream",
     "text": [
      "X2_train:\n",
      "      ps-stand    jahr\n",
      "568      408.0  2020.0\n",
      "759      136.0  2022.0\n",
      "2204     598.0  2022.0\n",
      "533      119.0  2022.0\n",
      "186      136.0  2022.0 \n",
      "\n",
      "y2_train:\n",
      "568      69910\n",
      "759      36900\n",
      "2204    159000\n",
      "533      32935\n",
      "186      38570\n",
      "Name: Preis, dtype: object\n"
     ]
    }
   ],
   "source": [
    "\n",
    "X2_train, X2_test, y2_train, y2_test = train_test_split(autos_na[['ps-stand','jahr']], \n",
    "                                                        autos_na['Preis'], \n",
    "                                                        test_size=0.30, \n",
    "                                                        random_state=42)\n",
    "\n",
    "\n",
    "# in x sind nun zwei Variabeln hinterlegt. Somit werden beide bei der Vorhersage des Preises berücksichigt\n",
    "print('X2_train:')\n",
    "print(X2_train.head(), '\\n')\n",
    "\n",
    "\n",
    "print('y2_train:')\n",
    "print(y2_train.head())"
   ]
  },
  {
   "attachments": {},
   "cell_type": "markdown",
   "metadata": {},
   "source": [
    "Um ein Mulitples Regressionsmodell zu \"fitten\" wird ols verwendet. "
   ]
  },
  {
   "cell_type": "code",
   "execution_count": 17,
   "metadata": {},
   "outputs": [],
   "source": [
    "# define the constant variable  \n",
    "X2_train_const = sm.add_constant(X2_train)\n",
    "\n",
    "# create the model\n",
    "olsmod = sm.OLS(y_train, X2_train_const)\n",
    "olsres = olsmod.fit()"
   ]
  },
  {
   "attachments": {},
   "cell_type": "markdown",
   "metadata": {},
   "source": [
    "## Überprüfung des Multiplen Regressionsmodells"
   ]
  },
  {
   "attachments": {},
   "cell_type": "markdown",
   "metadata": {},
   "source": [
    "das Summary zeigt einige wichtige Kennzahlen an, um die Qualität des modellls zu beurteilen. \n",
    "\n",
    "R-squared: Der R-Squared ist mit einem Wert von 0.601 schon etwas weit entfenr vom Optimalen Wert von 1. Es liegt somit keine ausgesprochen starke Korrelation zwischen den Variabeln vorl\n",
    "\n",
    "P-Wert P>|t|: Der P-Wert ist für alle Variabeln unter 0.05. Somit kann die 0 Hypothese bei einem Konfidenzintervall von 5% verworfen werden. Die daten sollten also einen tatsächlichen Zusammenhang aufweisen und nicht einfach zufällig so entstanden sein. "
   ]
  },
  {
   "cell_type": "code",
   "execution_count": 36,
   "metadata": {},
   "outputs": [
    {
     "name": "stdout",
     "output_type": "stream",
     "text": [
      "                            OLS Regression Results                            \n",
      "==============================================================================\n",
      "Dep. Variable:                  Preis   R-squared:                       0.601\n",
      "Model:                            OLS   Adj. R-squared:                  0.599\n",
      "Method:                 Least Squares   F-statistic:                     503.8\n",
      "Date:                Mon, 26 Dec 2022   Prob (F-statistic):          2.89e-134\n",
      "Time:                        12:55:28   Log-Likelihood:                -7465.5\n",
      "No. Observations:                 673   AIC:                         1.494e+04\n",
      "Df Residuals:                     670   BIC:                         1.495e+04\n",
      "Df Model:                           2                                         \n",
      "Covariance Type:            nonrobust                                         \n",
      "==============================================================================\n",
      "                 coef    std err          t      P>|t|      [0.025      0.975]\n",
      "------------------------------------------------------------------------------\n",
      "const      -1.251e+07   8.15e+05    -15.353      0.000   -1.41e+07   -1.09e+07\n",
      "ps-stand     130.7076      4.502     29.031      0.000     121.867     139.548\n",
      "jahr        6203.1434    403.264     15.382      0.000    5411.329    6994.958\n",
      "==============================================================================\n",
      "Omnibus:                      117.802   Durbin-Watson:                   1.916\n",
      "Prob(Omnibus):                  0.000   Jarque-Bera (JB):              296.840\n",
      "Skew:                           0.904   Prob(JB):                     3.48e-65\n",
      "Kurtosis:                       5.704   Cond. No.                     2.70e+06\n",
      "==============================================================================\n",
      "\n",
      "Notes:\n",
      "[1] Standard Errors assume that the covariance matrix of the errors is correctly specified.\n",
      "[2] The condition number is large, 2.7e+06. This might indicate that there are\n",
      "strong multicollinearity or other numerical problems.\n"
     ]
    }
   ],
   "source": [
    "# Summary of the most important key values\n",
    "print(olsres.summary())"
   ]
  },
  {
   "attachments": {},
   "cell_type": "markdown",
   "metadata": {},
   "source": [
    "Wie im Einfachen Linearen Regressionsmodell werden die Residuen angezeigt. Es zeichnet sich ein Ähnliches Bild. Die meisten Residuen schwanken um den Wert 0. Die Ausreser sind aber weniger dras"
   ]
  },
  {
   "cell_type": "code",
   "execution_count": 38,
   "metadata": {},
   "outputs": [
    {
     "data": {
      "image/png": "[encoded data removed]",
      "text/plain": [
       "<Figure size 576x288 with 1 Axes>"
      ]
     },
     "metadata": {
      "needs_background": "light"
     },
     "output_type": "display_data"
    }
   ],
   "source": [
    "fig = plt.figure( figsize=(8,4))\n",
    "n, bins, patches = plt.hist(x=olsres.resid, \n",
    "                            bins=20, \n",
    "                            color='red',\n",
    "                            alpha=0.5,\n",
    "                            rwidth=0.95\n",
    "                   )\n",
    "     \n",
    "\n",
    "\n",
    "plt.ylabel(\"Predictions\", fontsize = 18)\n",
    "plt.xlabel(\"Deviation in CHF\", fontsize = 18)\n",
    "plt.title('Deviation of the Model\\n', fontweight =\"bold\", fontsize = 25, fontname = \"Arial\")\n",
    "plt.tick_params(labelsize=12)\n",
    "\n",
    "\n",
    "plt.show()"
   ]
  },
  {
   "cell_type": "code",
   "execution_count": null,
   "metadata": {},
   "outputs": [
    {
     "name": "stdout",
     "output_type": "stream",
     "text": [
      "Predicted price: 33632.0, Observed price: 31900.0\n",
      "Predicted price: 70932.6, Observed price: 94950.0\n",
      "Predicted price: 59370.5, Observed price: 68900.0\n",
      "Predicted price: 44137.6, Observed price: 44527.0\n",
      "Predicted price: 54855.6, Observed price: 61900.0\n",
      "Predicted price: 83039.5, Observed price: 79900.0\n",
      "Predicted price: 39764.3, Observed price: 43200.0\n",
      "Predicted price: 67272.8, Observed price: 76640.0\n",
      "Predicted price: 42449.3, Observed price: 39999.0\n",
      "Predicted price: 48652.4, Observed price: 69800.0\n"
     ]
    }
   ],
   "source": [
    "# Add constant to X2_test\n",
    "X2_test_const = sm.add_constant(X2_test)\n",
    "predicted_new = olsres.predict(X2_test_const)\n",
    "\n",
    "# Compare predicted with observed price based on first 10 test samples\n",
    "for i in range(0,10):\n",
    "    print(f'Predicted price: {predicted_new.iloc[i]:.1f}, Observed price: {y_test.iloc[i]:.1f}')"
   ]
  }
 ],
 "metadata": {
  "kernelspec": {
   "display_name": "base",
   "language": "python",
   "name": "python3"
  },
  "language_info": {
   "codemirror_mode": {
    "name": "ipython",
    "version": 3
   },
   "file_extension": ".py",
   "mimetype": "text/x-python",
   "name": "python",
   "nbconvert_exporter": "python",
   "pygments_lexer": "ipython3",
   "version": "3.9.12 (main, Apr  4 2022, 05:22:27) [MSC v.1916 64 bit (AMD64)]"
  },
  "orig_nbformat": 4,
  "vscode": {
   "interpreter": {
    "hash": "d192288afb6fd94a25d53813387de33cdb73d58ede8d8ef9904481b3def76078"
   }
  }
 },
 "nbformat": 4,
 "nbformat_minor": 2
}
