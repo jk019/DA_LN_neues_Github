{
 "cells": [
  {
   "attachments": {},
   "cell_type": "markdown",
   "metadata": {},
   "source": [
    "# Imports"
   ]
  },
  {
   "cell_type": "code",
   "execution_count": 1,
   "metadata": {},
   "outputs": [],
   "source": [
    "import os\n",
    "import folium\n",
    "import openpyxl\n",
    "import pandas as pd\n",
    "import geopandas as gpd"
   ]
  },
  {
   "attachments": {},
   "cell_type": "markdown",
   "metadata": {},
   "source": [
    "# Read and edit data"
   ]
  },
  {
   "cell_type": "code",
   "execution_count": 2,
   "metadata": {},
   "outputs": [],
   "source": [
    "autos = pd.read_csv('../Ausgabedateien/autos_aufbereitet.csv')"
   ]
  },
  {
   "cell_type": "code",
   "execution_count": 3,
   "metadata": {},
   "outputs": [
    {
     "data": {
      "text/html": [
       "<div>\n",
       "<style scoped>\n",
       "    .dataframe tbody tr th:only-of-type {\n",
       "        vertical-align: middle;\n",
       "    }\n",
       "\n",
       "    .dataframe tbody tr th {\n",
       "        vertical-align: top;\n",
       "    }\n",
       "\n",
       "    .dataframe thead th {\n",
       "        text-align: right;\n",
       "    }\n",
       "</style>\n",
       "<table border=\"1\" class=\"dataframe\">\n",
       "  <thead>\n",
       "    <tr style=\"text-align: right;\">\n",
       "      <th></th>\n",
       "      <th>Unnamed: 0</th>\n",
       "      <th>web-scraper-order</th>\n",
       "      <th>web-scraper-start-url</th>\n",
       "      <th>Preis</th>\n",
       "      <th>plz</th>\n",
       "      <th>jahr</th>\n",
       "      <th>ps-stand</th>\n",
       "      <th>Farbe</th>\n",
       "      <th>PLZ4</th>\n",
       "      <th>%_IN_GDE</th>\n",
       "      <th>KTKZ</th>\n",
       "      <th>GDENR</th>\n",
       "      <th>GDENAMK</th>\n",
       "      <th>Hist.-Nummer</th>\n",
       "      <th>Kanton</th>\n",
       "      <th>Bezirks-nummer</th>\n",
       "      <th>Bezirksname</th>\n",
       "      <th>BFS Gde-nummer</th>\n",
       "      <th>Gemeindename</th>\n",
       "      <th>Datum der Aufnahme</th>\n",
       "    </tr>\n",
       "  </thead>\n",
       "  <tbody>\n",
       "    <tr>\n",
       "      <th>0</th>\n",
       "      <td>0</td>\n",
       "      <td>1669622809-189</td>\n",
       "      <td>https://www.autolina.ch/elektro-auto</td>\n",
       "      <td>49'650</td>\n",
       "      <td>8640</td>\n",
       "      <td>NaN</td>\n",
       "      <td>231.0</td>\n",
       "      <td>silber</td>\n",
       "      <td>8640.0</td>\n",
       "      <td>3.91</td>\n",
       "      <td>SZ</td>\n",
       "      <td>1322.0</td>\n",
       "      <td>Freienbach</td>\n",
       "      <td>11961.0</td>\n",
       "      <td>SZ</td>\n",
       "      <td>503.0</td>\n",
       "      <td>Höfe</td>\n",
       "      <td>1322</td>\n",
       "      <td>Freienbach</td>\n",
       "      <td>1848-09-12</td>\n",
       "    </tr>\n",
       "    <tr>\n",
       "      <th>1</th>\n",
       "      <td>1</td>\n",
       "      <td>1669622809-190</td>\n",
       "      <td>https://www.autolina.ch/elektro-auto</td>\n",
       "      <td>42'500</td>\n",
       "      <td>6464</td>\n",
       "      <td>2022.0</td>\n",
       "      <td>204.0</td>\n",
       "      <td>weiss</td>\n",
       "      <td>6464.0</td>\n",
       "      <td>0.36</td>\n",
       "      <td>UR</td>\n",
       "      <td>1205.0</td>\n",
       "      <td>Bürglen (UR)</td>\n",
       "      <td>11506.0</td>\n",
       "      <td>UR</td>\n",
       "      <td>400.0</td>\n",
       "      <td>Kt. Uri</td>\n",
       "      <td>1205</td>\n",
       "      <td>Bürglen (UR)</td>\n",
       "      <td>1848-09-12</td>\n",
       "    </tr>\n",
       "  </tbody>\n",
       "</table>\n",
       "</div>"
      ],
      "text/plain": [
       "   Unnamed: 0 web-scraper-order                 web-scraper-start-url   Preis  \\\n",
       "0           0    1669622809-189  https://www.autolina.ch/elektro-auto  49'650   \n",
       "1           1    1669622809-190  https://www.autolina.ch/elektro-auto  42'500   \n",
       "\n",
       "    plz    jahr  ps-stand   Farbe    PLZ4  %_IN_GDE KTKZ   GDENR  \\\n",
       "0  8640     NaN     231.0  silber  8640.0      3.91   SZ  1322.0   \n",
       "1  6464  2022.0     204.0   weiss  6464.0      0.36   UR  1205.0   \n",
       "\n",
       "        GDENAMK  Hist.-Nummer Kanton  Bezirks-nummer Bezirksname  \\\n",
       "0    Freienbach       11961.0     SZ           503.0        Höfe   \n",
       "1  Bürglen (UR)       11506.0     UR           400.0     Kt. Uri   \n",
       "\n",
       "   BFS Gde-nummer  Gemeindename Datum der Aufnahme  \n",
       "0            1322    Freienbach         1848-09-12  \n",
       "1            1205  Bürglen (UR)         1848-09-12  "
      ]
     },
     "execution_count": 3,
     "metadata": {},
     "output_type": "execute_result"
    }
   ],
   "source": [
    "autos.head(2)"
   ]
  },
  {
   "cell_type": "code",
   "execution_count": 4,
   "metadata": {},
   "outputs": [
    {
     "data": {
      "text/html": [
       "<div>\n",
       "<style scoped>\n",
       "    .dataframe tbody tr th:only-of-type {\n",
       "        vertical-align: middle;\n",
       "    }\n",
       "\n",
       "    .dataframe tbody tr th {\n",
       "        vertical-align: top;\n",
       "    }\n",
       "\n",
       "    .dataframe thead th {\n",
       "        text-align: right;\n",
       "    }\n",
       "</style>\n",
       "<table border=\"1\" class=\"dataframe\">\n",
       "  <thead>\n",
       "    <tr style=\"text-align: right;\">\n",
       "      <th></th>\n",
       "      <th>Unnamed: 0</th>\n",
       "      <th>web-scraper-order</th>\n",
       "      <th>web-scraper-start-url</th>\n",
       "      <th>Preis</th>\n",
       "      <th>plz</th>\n",
       "      <th>jahr</th>\n",
       "      <th>ps-stand</th>\n",
       "      <th>Farbe</th>\n",
       "      <th>PLZ4</th>\n",
       "      <th>%_IN_GDE</th>\n",
       "      <th>KTKZ</th>\n",
       "      <th>GDENR</th>\n",
       "      <th>GDENAMK</th>\n",
       "      <th>Hist.-Nummer</th>\n",
       "      <th>Kanton</th>\n",
       "      <th>Bezirks-nummer</th>\n",
       "      <th>Bezirksname</th>\n",
       "      <th>BFS Gde-nummer</th>\n",
       "      <th>Gemeindename</th>\n",
       "      <th>Datum der Aufnahme</th>\n",
       "    </tr>\n",
       "  </thead>\n",
       "  <tbody>\n",
       "    <tr>\n",
       "      <th>0</th>\n",
       "      <td>0</td>\n",
       "      <td>1669622809-189</td>\n",
       "      <td>https://www.autolina.ch/elektro-auto</td>\n",
       "      <td>49'650</td>\n",
       "      <td>8640</td>\n",
       "      <td>NaN</td>\n",
       "      <td>231.0</td>\n",
       "      <td>silber</td>\n",
       "      <td>8640.0</td>\n",
       "      <td>3.91</td>\n",
       "      <td>SZ</td>\n",
       "      <td>1322.0</td>\n",
       "      <td>Freienbach</td>\n",
       "      <td>11961.0</td>\n",
       "      <td>SZ</td>\n",
       "      <td>503.0</td>\n",
       "      <td>Höfe</td>\n",
       "      <td>1322</td>\n",
       "      <td>Freienbach</td>\n",
       "      <td>1848-09-12</td>\n",
       "    </tr>\n",
       "    <tr>\n",
       "      <th>1</th>\n",
       "      <td>1</td>\n",
       "      <td>1669622809-190</td>\n",
       "      <td>https://www.autolina.ch/elektro-auto</td>\n",
       "      <td>42'500</td>\n",
       "      <td>6464</td>\n",
       "      <td>2022.0</td>\n",
       "      <td>204.0</td>\n",
       "      <td>weiss</td>\n",
       "      <td>6464.0</td>\n",
       "      <td>0.36</td>\n",
       "      <td>UR</td>\n",
       "      <td>1205.0</td>\n",
       "      <td>Bürglen (UR)</td>\n",
       "      <td>11506.0</td>\n",
       "      <td>UR</td>\n",
       "      <td>400.0</td>\n",
       "      <td>Kt. Uri</td>\n",
       "      <td>1205</td>\n",
       "      <td>Bürglen (UR)</td>\n",
       "      <td>1848-09-12</td>\n",
       "    </tr>\n",
       "  </tbody>\n",
       "</table>\n",
       "</div>"
      ],
      "text/plain": [
       "   Unnamed: 0 web-scraper-order                 web-scraper-start-url   Preis  \\\n",
       "0           0    1669622809-189  https://www.autolina.ch/elektro-auto  49'650   \n",
       "1           1    1669622809-190  https://www.autolina.ch/elektro-auto  42'500   \n",
       "\n",
       "    plz    jahr  ps-stand   Farbe    PLZ4  %_IN_GDE KTKZ   GDENR  \\\n",
       "0  8640     NaN     231.0  silber  8640.0      3.91   SZ  1322.0   \n",
       "1  6464  2022.0     204.0   weiss  6464.0      0.36   UR  1205.0   \n",
       "\n",
       "        GDENAMK  Hist.-Nummer Kanton  Bezirks-nummer Bezirksname  \\\n",
       "0    Freienbach       11961.0     SZ           503.0        Höfe   \n",
       "1  Bürglen (UR)       11506.0     UR           400.0     Kt. Uri   \n",
       "\n",
       "   BFS Gde-nummer  Gemeindename Datum der Aufnahme  \n",
       "0            1322    Freienbach         1848-09-12  \n",
       "1            1205  Bürglen (UR)         1848-09-12  "
      ]
     },
     "execution_count": 4,
     "metadata": {},
     "output_type": "execute_result"
    }
   ],
   "source": [
    "autos = autos.astype({\"BFS Gde-nummer\":int})\n",
    "autos.head(2)"
   ]
  },
  {
   "cell_type": "code",
   "execution_count": 5,
   "metadata": {},
   "outputs": [
    {
     "data": {
      "text/html": [
       "<div>\n",
       "<style scoped>\n",
       "    .dataframe tbody tr th:only-of-type {\n",
       "        vertical-align: middle;\n",
       "    }\n",
       "\n",
       "    .dataframe tbody tr th {\n",
       "        vertical-align: top;\n",
       "    }\n",
       "\n",
       "    .dataframe thead th {\n",
       "        text-align: right;\n",
       "    }\n",
       "</style>\n",
       "<table border=\"1\" class=\"dataframe\">\n",
       "  <thead>\n",
       "    <tr style=\"text-align: right;\">\n",
       "      <th></th>\n",
       "      <th>BFS-Nummer</th>\n",
       "      <th>Anzahl</th>\n",
       "    </tr>\n",
       "  </thead>\n",
       "  <tbody>\n",
       "    <tr>\n",
       "      <th>0</th>\n",
       "      <td>4746</td>\n",
       "      <td>99</td>\n",
       "    </tr>\n",
       "    <tr>\n",
       "      <th>1</th>\n",
       "      <td>230</td>\n",
       "      <td>61</td>\n",
       "    </tr>\n",
       "    <tr>\n",
       "      <th>2</th>\n",
       "      <td>1059</td>\n",
       "      <td>54</td>\n",
       "    </tr>\n",
       "    <tr>\n",
       "      <th>3</th>\n",
       "      <td>4</td>\n",
       "      <td>49</td>\n",
       "    </tr>\n",
       "    <tr>\n",
       "      <th>4</th>\n",
       "      <td>3352</td>\n",
       "      <td>43</td>\n",
       "    </tr>\n",
       "    <tr>\n",
       "      <th>...</th>\n",
       "      <td>...</td>\n",
       "      <td>...</td>\n",
       "    </tr>\n",
       "    <tr>\n",
       "      <th>331</th>\n",
       "      <td>983</td>\n",
       "      <td>1</td>\n",
       "    </tr>\n",
       "    <tr>\n",
       "      <th>332</th>\n",
       "      <td>113</td>\n",
       "      <td>1</td>\n",
       "    </tr>\n",
       "    <tr>\n",
       "      <th>333</th>\n",
       "      <td>6708</td>\n",
       "      <td>1</td>\n",
       "    </tr>\n",
       "    <tr>\n",
       "      <th>334</th>\n",
       "      <td>84</td>\n",
       "      <td>1</td>\n",
       "    </tr>\n",
       "    <tr>\n",
       "      <th>335</th>\n",
       "      <td>662</td>\n",
       "      <td>1</td>\n",
       "    </tr>\n",
       "  </tbody>\n",
       "</table>\n",
       "<p>336 rows × 2 columns</p>\n",
       "</div>"
      ],
      "text/plain": [
       "     BFS-Nummer  Anzahl\n",
       "0          4746      99\n",
       "1           230      61\n",
       "2          1059      54\n",
       "3             4      49\n",
       "4          3352      43\n",
       "..          ...     ...\n",
       "331         983       1\n",
       "332         113       1\n",
       "333        6708       1\n",
       "334          84       1\n",
       "335         662       1\n",
       "\n",
       "[336 rows x 2 columns]"
      ]
     },
     "execution_count": 5,
     "metadata": {},
     "output_type": "execute_result"
    }
   ],
   "source": [
    "Angebote_pro_gemeinde = pd.DataFrame(autos['BFS Gde-nummer'].value_counts().rename_axis('BFS-Nummer').reset_index(name='Anzahl'))\n",
    "Angebote_pro_gemeinde"
   ]
  },
  {
   "cell_type": "code",
   "execution_count": 6,
   "metadata": {},
   "outputs": [
    {
     "data": {
      "text/html": [
       "<div>\n",
       "<style scoped>\n",
       "    .dataframe tbody tr th:only-of-type {\n",
       "        vertical-align: middle;\n",
       "    }\n",
       "\n",
       "    .dataframe tbody tr th {\n",
       "        vertical-align: top;\n",
       "    }\n",
       "\n",
       "    .dataframe thead th {\n",
       "        text-align: right;\n",
       "    }\n",
       "</style>\n",
       "<table border=\"1\" class=\"dataframe\">\n",
       "  <thead>\n",
       "    <tr style=\"text-align: right;\">\n",
       "      <th></th>\n",
       "      <th>BFS-Nummer</th>\n",
       "      <th>Anzahl</th>\n",
       "    </tr>\n",
       "  </thead>\n",
       "  <tbody>\n",
       "    <tr>\n",
       "      <th>0</th>\n",
       "      <td>4746</td>\n",
       "      <td>99</td>\n",
       "    </tr>\n",
       "    <tr>\n",
       "      <th>1</th>\n",
       "      <td>230</td>\n",
       "      <td>61</td>\n",
       "    </tr>\n",
       "  </tbody>\n",
       "</table>\n",
       "</div>"
      ],
      "text/plain": [
       "   BFS-Nummer  Anzahl\n",
       "0        4746      99\n",
       "1         230      61"
      ]
     },
     "execution_count": 6,
     "metadata": {},
     "output_type": "execute_result"
    }
   ],
   "source": [
    "Angebote_pro_gemeinde = Angebote_pro_gemeinde.astype({\"Anzahl\":int})\n",
    "Angebote_pro_gemeinde = Angebote_pro_gemeinde.astype({\"BFS-Nummer\":int})\n",
    "Angebote_pro_gemeinde.head(2)"
   ]
  },
  {
   "cell_type": "code",
   "execution_count": 7,
   "metadata": {},
   "outputs": [],
   "source": [
    "gemeinden = pd.read_csv('../Quelldateien/Gemeindestand.csv')"
   ]
  },
  {
   "attachments": {},
   "cell_type": "markdown",
   "metadata": {},
   "source": [
    "# Safe result to csv"
   ]
  },
  {
   "cell_type": "code",
   "execution_count": 8,
   "metadata": {},
   "outputs": [],
   "source": [
    "Angebote_pro_gemeinde.to_csv('../Ausgabedateien/anzahl_autos_pro_gemeinde.csv')"
   ]
  },
  {
   "attachments": {},
   "cell_type": "markdown",
   "metadata": {},
   "source": [
    "# Jupyter notebook --footer info"
   ]
  },
  {
   "cell_type": "code",
   "execution_count": 9,
   "metadata": {},
   "outputs": [
    {
     "name": "stdout",
     "output_type": "stream",
     "text": [
      "-----------------------------------\n",
      "NT\n",
      "Windows | 10\n",
      "Datetime: 2022-12-26 17:15:30\n",
      "Python Version: 3.10.1\n",
      "-----------------------------------\n"
     ]
    }
   ],
   "source": [
    "import os\n",
    "import platform\n",
    "import socket\n",
    "from platform import python_version\n",
    "from datetime import datetime\n",
    "\n",
    "print('-----------------------------------')\n",
    "print(os.name.upper())\n",
    "print(platform.system(), '|', platform.release())\n",
    "print('Datetime:', datetime.now().strftime(\"%Y-%m-%d %H:%M:%S\"))\n",
    "print('Python Version:', python_version())\n",
    "print('-----------------------------------')"
   ]
  }
 ],
 "metadata": {
  "kernelspec": {
   "display_name": "Python 3",
   "language": "python",
   "name": "python3"
  },
  "language_info": {
   "codemirror_mode": {
    "name": "ipython",
    "version": 3
   },
   "file_extension": ".py",
   "mimetype": "text/x-python",
   "name": "python",
   "nbconvert_exporter": "python",
   "pygments_lexer": "ipython3",
   "version": "3.10.1"
  },
  "orig_nbformat": 4,
  "vscode": {
   "interpreter": {
    "hash": "b88106cd25352eb78e9a84ccc61d7371606ab3552382a286fdbe15a47320f655"
   }
  }
 },
 "nbformat": 4,
 "nbformat_minor": 2
}
