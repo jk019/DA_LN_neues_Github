{
 "cells": [
  {
   "attachments": {},
   "cell_type": "markdown",
   "metadata": {},
   "source": [
    "# Routing"
   ]
  },
  {
   "attachments": {},
   "cell_type": "markdown",
   "metadata": {},
   "source": [
    "All necessary imports and openroutservices api key"
   ]
  },
  {
   "cell_type": "code",
   "execution_count": 12,
   "metadata": {},
   "outputs": [],
   "source": [
    "import json\n",
    "import folium\n",
    "import requests\n",
    "import mysql.connector\n",
    "import pandas as pd\n",
    "import openrouteservice as ors\n",
    "from mysql.connector import Error\n",
    "from IPython.display import Image\n",
    "from openrouteservice.directions import directions\n",
    "\n",
    "client = ors.Client(key='5b3ce3597851110001cf6248fadb94ffd01d455fb2bb86e68caf8f87')"
   ]
  },
  {
   "attachments": {},
   "cell_type": "markdown",
   "metadata": {},
   "source": [
    "Coordinates for loadingstation"
   ]
  },
  {
   "cell_type": "code",
   "execution_count": 13,
   "metadata": {},
   "outputs": [
    {
     "name": "stdout",
     "output_type": "stream",
     "text": [
      "      Unnamed: 0   Latitude  Longitude      City Country PostalCode  \\\n",
      "1448        1623  46.536810   6.617336  Lausanne     CHE       1018   \n",
      "1449        1624  46.536810   6.617336  Lausanne     CHE       1018   \n",
      "1876        2051  46.540969   6.658346  Lausanne     CHE       1010   \n",
      "1877        2052  46.540969   6.658346  Lausanne     CHE       1010   \n",
      "1878        2053  46.540969   6.658346  Lausanne     CHE       1010   \n",
      "\n",
      "                        Street OperatorName  \n",
      "1448  Route de Gratta-Paille 2   Bgdi_Admin  \n",
      "1449  Route de Gratta-Paille 2   Bgdi_Admin  \n",
      "1876        Route de Berne 144   Bgdi_Admin  \n",
      "1877        Route de Berne 144   Bgdi_Admin  \n",
      "1878        Route de Berne 144   Bgdi_Admin  \n"
     ]
    }
   ],
   "source": [
    "# Filtering df according to needs\n",
    "search = 'Lausanne'\n",
    "\n",
    "df_loadingstations = pd.read_csv('../Ausgabedateien/locations_Ladestationen.csv')\n",
    "df_filtered = df_loadingstations[df_loadingstations['City'] == search]\n",
    "\n",
    "lats = df_filtered.iloc[1, 1]\n",
    "lons = df_filtered.iloc[1, 2]\n",
    "\n",
    "print(df_filtered)"
   ]
  },
  {
   "attachments": {},
   "cell_type": "markdown",
   "metadata": {},
   "source": [
    "Coordinates for start address"
   ]
  },
  {
   "cell_type": "code",
   "execution_count": 14,
   "metadata": {},
   "outputs": [
    {
     "name": "stdout",
     "output_type": "stream",
     "text": [
      "Coordinates of ZHAW School of Management and Law, St.-Georgen-Platz 2, 8401 Winterthur: [8.726028, 47.502264]\n"
     ]
    }
   ],
   "source": [
    "# Set the API endpoint and your API key\n",
    "endpoint = \"https://api.openrouteservice.org/geocode/search\"\n",
    "api_key = \"5b3ce3597851110001cf6248fadb94ffd01d455fb2bb86e68caf8f87\"\n",
    "\n",
    "# Prompt the user to enter a location\n",
    "location = 'ZHAW School of Management and Law, St.-Georgen-Platz 2, 8401 Winterthur'\n",
    "\n",
    "# Set the request parameters\n",
    "params = {\n",
    "    \"api_key\": api_key,\n",
    "    \"text\": location\n",
    "}\n",
    "\n",
    "# Make the request\n",
    "response = requests.get(endpoint, params=params)\n",
    "\n",
    "# Check the status code of the response\n",
    "if response.status_code == 200:\n",
    "    # If the request was successful, get the coordinates from the response\n",
    "    coordinates_start = response.json()[\"features\"][0][\"geometry\"][\"coordinates\"]\n",
    "    print(f\"Coordinates of {location}: {coordinates_start}\")\n",
    "else:\n",
    "    # If the request failed, print the error message\n",
    "    print(response.json()[\"error\"][\"message\"])\n"
   ]
  },
  {
   "attachments": {},
   "cell_type": "markdown",
   "metadata": {},
   "source": [
    "Coordinates for destination address"
   ]
  },
  {
   "cell_type": "code",
   "execution_count": 15,
   "metadata": {},
   "outputs": [
    {
     "name": "stdout",
     "output_type": "stream",
     "text": [
      "Coordinates of Av. de Beau-Séjour 6, 1206 Genève: [6.149957, 46.1912]\n"
     ]
    }
   ],
   "source": [
    "# Set the API endpoint and your API key\n",
    "endpoint = \"https://api.openrouteservice.org/geocode/search\"\n",
    "api_key = \"5b3ce3597851110001cf6248fadb94ffd01d455fb2bb86e68caf8f87\"\n",
    "\n",
    "# Prompt the user to enter a location\n",
    "location = 'Av. de Beau-Séjour 6, 1206 Genève'\n",
    "\n",
    "# Set the request parameters\n",
    "params = {\n",
    "    \"api_key\": api_key,\n",
    "    \"text\": location\n",
    "}\n",
    "\n",
    "# Make the request\n",
    "response = requests.get(endpoint, params=params)\n",
    "\n",
    "# Check the status code of the response\n",
    "if response.status_code == 200:\n",
    "    # If the request was successful, get the coordinates from the response\n",
    "    coordinates_destination = response.json()[\"features\"][0][\"geometry\"][\"coordinates\"]\n",
    "    print(f\"Coordinates of {location}: {coordinates_destination}\")\n",
    "else:\n",
    "    # If the request failed, print the error message\n",
    "    print(response.json()[\"error\"][\"message\"])\n"
   ]
  },
  {
   "attachments": {},
   "cell_type": "markdown",
   "metadata": {},
   "source": [
    "Generating route"
   ]
  },
  {
   "cell_type": "code",
   "execution_count": 16,
   "metadata": {},
   "outputs": [
    {
     "data": {
      "text/plain": [
       "<folium.features.GeoJson at 0x1d00a2d7b80>"
      ]
     },
     "execution_count": 16,
     "metadata": {},
     "output_type": "execute_result"
    }
   ],
   "source": [
    "coords1 = coordinates_start\n",
    "coords2 = lons, lats\n",
    "coords3 = coordinates_destination\n",
    "\n",
    "route1 = directions(client, ((coords1), (coords2), (coords3)),\n",
    "                    format_out='geojson', profile='driving-hgv') # ORS\n",
    "\n",
    "map_osm = folium.Map(location=[46.850860, 7.4316805], zoom_start=8) # Folium Map\n",
    "folium.GeoJson(route1).add_to(map_osm) # Add to map"
   ]
  },
  {
   "attachments": {},
   "cell_type": "markdown",
   "metadata": {},
   "source": [
    "Processing the distance and time of the route"
   ]
  },
  {
   "cell_type": "code",
   "execution_count": 17,
   "metadata": {},
   "outputs": [
    {
     "name": "stdout",
     "output_type": "stream",
     "text": [
      "OK! 0 | ([8.726028, 47.502264], (6.617336, 46.53681), [6.149957, 46.1912])\n"
     ]
    }
   ],
   "source": [
    "# Process data\n",
    "time = 0 # Total time counter\n",
    "distance = 0 # Total distance counter\n",
    "\n",
    "for x in range(0, 1):\n",
    "    coordinates = (coords1, coords2, coords3) # Coordinates\n",
    "    geojson = directions(client, coordinates, format_out='geojson') # ORS\n",
    "    for y in range(0, len(geojson['features'][0]['properties']['segments'])): # Features\n",
    "        time += geojson['features'][0]['properties']['segments'][y]['duration']\n",
    "        distance += geojson['features'][0]['properties']['segments'][y]['distance']\n",
    "    folium.GeoJson(geojson).add_to(map_osm) # Add to map\n",
    "    print('OK! {} | {}'.format(x, coordinates))"
   ]
  },
  {
   "cell_type": "code",
   "execution_count": 18,
   "metadata": {},
   "outputs": [
    {
     "name": "stdout",
     "output_type": "stream",
     "text": [
      "Total Length: 315.53 km\n",
      "Total Time: 3.59 h\n"
     ]
    }
   ],
   "source": [
    "distance = (round(distance/1000, 2))\n",
    "time = (round(time/60/60, 2))\n",
    "\n",
    "print('Total Length: {} km'.format(distance))\n",
    "print('Total Time: {} h'.format(time))"
   ]
  },
  {
   "attachments": {},
   "cell_type": "markdown",
   "metadata": {},
   "source": [
    "Showing route on the map"
   ]
  },
  {
   "cell_type": "code",
   "execution_count": 1,
   "metadata": {},
   "outputs": [
    {
     "ename": "NameError",
     "evalue": "name 'map_osm' is not defined",
     "output_type": "error",
     "traceback": [
      "\u001b[1;31m---------------------------------------------------------------------------\u001b[0m",
      "\u001b[1;31mNameError\u001b[0m                                 Traceback (most recent call last)",
      "Cell \u001b[1;32mIn [1], line 1\u001b[0m\n\u001b[1;32m----> 1\u001b[0m map_osm\n",
      "\u001b[1;31mNameError\u001b[0m: name 'map_osm' is not defined"
     ]
    }
   ],
   "source": [
    "map_osm"
   ]
  },
  {
   "attachments": {},
   "cell_type": "markdown",
   "metadata": {},
   "source": [
    "# MySQL"
   ]
  },
  {
   "attachments": {},
   "cell_type": "markdown",
   "metadata": {},
   "source": [
    "Data to be safed on the Data Analytics database"
   ]
  },
  {
   "cell_type": "code",
   "execution_count": 20,
   "metadata": {},
   "outputs": [
    {
     "name": "stdout",
     "output_type": "stream",
     "text": [
      "315.53 km\n",
      "3.59 h\n",
      "80.55 %\n",
      "65.63 kWh\n"
     ]
    }
   ],
   "source": [
    "# Test car Tesla Model X 75D / cosumption of 20.8 kWh/100km\n",
    "usage = 20.8/100 # 1km\n",
    "kWh= 0 # used\n",
    "batteryused = 0 # Starting to drive\n",
    "battery = 100 # Equals 75 kWh\n",
    "\n",
    "# Optimal for fast charging\n",
    "kWh = 60\n",
    "battery = 20 # After 288.46 km\n",
    "\n",
    "# Battery after drive \n",
    "kWh = (round(usage*distance/1, 2))\n",
    "battery = (round((1.33*(75-usage*69.4))/1, 2))\n",
    "\n",
    "\n",
    "print(f\"{distance} km\")\n",
    "print(f\"{time} h\")\n",
    "print(f\"{battery} %\")\n",
    "print(f\"{kWh} kWh\")"
   ]
  },
  {
   "attachments": {},
   "cell_type": "markdown",
   "metadata": {},
   "source": [
    "Connecting to the MySQL server"
   ]
  },
  {
   "cell_type": "code",
   "execution_count": 21,
   "metadata": {},
   "outputs": [],
   "source": [
    "cnx = mysql.connector.connect(user='root', password='George_George_MySQL', host='127.0.0.1', database='dataanalytics')\n",
    "\n",
    "cursor= cnx.cursor() # created a cursor for the data"
   ]
  },
  {
   "attachments": {},
   "cell_type": "markdown",
   "metadata": {},
   "source": [
    "Executing the query"
   ]
  },
  {
   "cell_type": "code",
   "execution_count": 22,
   "metadata": {},
   "outputs": [],
   "source": [
    "query = \"INSERT INTO routes (distance, time, battery, kWh) VALUES (%s, %s, %s, %s)\" #mysql query according to needs\n",
    "values = (distance, time, battery, kWh) # values that should be safed\n",
    "\n",
    "# Hinzufügen von Query um Daten von MySQL zu lesen\n",
    "\n",
    "cursor.execute(query, values) # safing into cursor object\n",
    "cnx.commit() # execute\n",
    "\n",
    "cursor.close()\n",
    "cnx.close()"
   ]
  }
 ],
 "metadata": {
  "kernelspec": {
   "display_name": "Python 3",
   "language": "python",
   "name": "python3"
  },
  "language_info": {
   "codemirror_mode": {
    "name": "ipython",
    "version": 3
   },
   "file_extension": ".py",
   "mimetype": "text/x-python",
   "name": "python",
   "nbconvert_exporter": "python",
   "pygments_lexer": "ipython3",
   "version": "3.10.1 (tags/v3.10.1:2cd268a, Dec  6 2021, 19:10:37) [MSC v.1929 64 bit (AMD64)]"
  },
  "orig_nbformat": 4,
  "vscode": {
   "interpreter": {
    "hash": "b88106cd25352eb78e9a84ccc61d7371606ab3552382a286fdbe15a47320f655"
   }
  }
 },
 "nbformat": 4,
 "nbformat_minor": 2
}
