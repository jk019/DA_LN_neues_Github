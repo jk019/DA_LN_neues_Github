{
 "cells": [
  {
   "cell_type": "code",
   "execution_count": 1,
   "metadata": {},
   "outputs": [
    {
     "ename": "TypeError",
     "evalue": "Object of type set is not JSON serializable",
     "output_type": "error",
     "traceback": [
      "\u001b[1;31m---------------------------------------------------------------------------\u001b[0m",
      "\u001b[1;31mTypeError\u001b[0m                                 Traceback (most recent call last)",
      "Cell \u001b[1;32mIn [1], line 12\u001b[0m\n\u001b[0;32m      9\u001b[0m lon \u001b[39m=\u001b[39m \u001b[39m8.7263853\u001b[39m \u001b[39m#ZHAW\u001b[39;00m\n\u001b[0;32m     11\u001b[0m \u001b[39m# ORS-Isochrones with statistics\u001b[39;00m\n\u001b[1;32m---> 12\u001b[0m isochrone_geojson \u001b[39m=\u001b[39m isochrones(client, (lon, lat), intervals\u001b[39m=\u001b[39;49m[\u001b[39m600\u001b[39;49m, \u001b[39m1200\u001b[39;49m, \u001b[39m1800\u001b[39;49m], attributes\u001b[39m=\u001b[39;49m{\u001b[39m'\u001b[39;49m\u001b[39mtotal_pop\u001b[39;49m\u001b[39m'\u001b[39;49m}, profile\u001b[39m=\u001b[39;49m\u001b[39m'\u001b[39;49m\u001b[39mdriving-car\u001b[39;49m\u001b[39m'\u001b[39;49m)\n\u001b[0;32m     14\u001b[0m \u001b[39m# Extract population data\u001b[39;00m\n\u001b[0;32m     15\u001b[0m pop_sting \u001b[39m=\u001b[39m \u001b[39m'\u001b[39m\u001b[39mPopulation for: \u001b[39m\u001b[39m'\u001b[39m\n",
      "File \u001b[1;32mc:\\Users\\Georg\\anaconda3\\envs\\daenv\\lib\\site-packages\\openrouteservice\\isochrones.py:132\u001b[0m, in \u001b[0;36misochrones\u001b[1;34m(client, locations, profile, range_type, range, intervals, segments, interval, units, location_type, smoothing, attributes, validate, dry_run)\u001b[0m\n\u001b[0;32m    129\u001b[0m \u001b[39mif\u001b[39;00m attributes:\n\u001b[0;32m    130\u001b[0m     params[\u001b[39m\"\u001b[39m\u001b[39mattributes\u001b[39m\u001b[39m\"\u001b[39m] \u001b[39m=\u001b[39m attributes\n\u001b[1;32m--> 132\u001b[0m \u001b[39mreturn\u001b[39;00m client\u001b[39m.\u001b[39;49mrequest(\u001b[39m\"\u001b[39;49m\u001b[39m/v2/isochrones/\u001b[39;49m\u001b[39m\"\u001b[39;49m \u001b[39m+\u001b[39;49m profile \u001b[39m+\u001b[39;49m \u001b[39m'\u001b[39;49m\u001b[39m/geojson\u001b[39;49m\u001b[39m'\u001b[39;49m, {}, post_json\u001b[39m=\u001b[39;49mparams, dry_run\u001b[39m=\u001b[39;49mdry_run)\n",
      "File \u001b[1;32mc:\\Users\\Georg\\anaconda3\\envs\\daenv\\lib\\site-packages\\openrouteservice\\client.py:186\u001b[0m, in \u001b[0;36mClient.request\u001b[1;34m(self, url, get_params, first_request_time, retry_counter, requests_kwargs, post_json, dry_run)\u001b[0m\n\u001b[0;32m    183\u001b[0m     \u001b[39mreturn\u001b[39;00m\n\u001b[0;32m    185\u001b[0m \u001b[39mtry\u001b[39;00m:\n\u001b[1;32m--> 186\u001b[0m     response \u001b[39m=\u001b[39m requests_method(\u001b[39mself\u001b[39m\u001b[39m.\u001b[39m_base_url \u001b[39m+\u001b[39m authed_url,\n\u001b[0;32m    187\u001b[0m                                \u001b[39m*\u001b[39m\u001b[39m*\u001b[39mfinal_requests_kwargs)\n\u001b[0;32m    188\u001b[0m     \u001b[39mself\u001b[39m\u001b[39m.\u001b[39m_req \u001b[39m=\u001b[39m response\u001b[39m.\u001b[39mrequest\n\u001b[0;32m    190\u001b[0m \u001b[39mexcept\u001b[39;00m requests\u001b[39m.\u001b[39mexceptions\u001b[39m.\u001b[39mTimeout:\n",
      "File \u001b[1;32mc:\\Users\\Georg\\anaconda3\\envs\\daenv\\lib\\site-packages\\requests\\sessions.py:635\u001b[0m, in \u001b[0;36mSession.post\u001b[1;34m(self, url, data, json, **kwargs)\u001b[0m\n\u001b[0;32m    624\u001b[0m \u001b[39mdef\u001b[39;00m \u001b[39mpost\u001b[39m(\u001b[39mself\u001b[39m, url, data\u001b[39m=\u001b[39m\u001b[39mNone\u001b[39;00m, json\u001b[39m=\u001b[39m\u001b[39mNone\u001b[39;00m, \u001b[39m*\u001b[39m\u001b[39m*\u001b[39mkwargs):\n\u001b[0;32m    625\u001b[0m     \u001b[39mr\u001b[39m\u001b[39m\"\"\"Sends a POST request. Returns :class:`Response` object.\u001b[39;00m\n\u001b[0;32m    626\u001b[0m \n\u001b[0;32m    627\u001b[0m \u001b[39m    :param url: URL for the new :class:`Request` object.\u001b[39;00m\n\u001b[1;32m   (...)\u001b[0m\n\u001b[0;32m    632\u001b[0m \u001b[39m    :rtype: requests.Response\u001b[39;00m\n\u001b[0;32m    633\u001b[0m \u001b[39m    \"\"\"\u001b[39;00m\n\u001b[1;32m--> 635\u001b[0m     \u001b[39mreturn\u001b[39;00m \u001b[39mself\u001b[39m\u001b[39m.\u001b[39mrequest(\u001b[39m\"\u001b[39m\u001b[39mPOST\u001b[39m\u001b[39m\"\u001b[39m, url, data\u001b[39m=\u001b[39mdata, json\u001b[39m=\u001b[39mjson, \u001b[39m*\u001b[39m\u001b[39m*\u001b[39mkwargs)\n",
      "File \u001b[1;32mc:\\Users\\Georg\\anaconda3\\envs\\daenv\\lib\\site-packages\\requests\\sessions.py:573\u001b[0m, in \u001b[0;36mSession.request\u001b[1;34m(self, method, url, params, data, headers, cookies, files, auth, timeout, allow_redirects, proxies, hooks, stream, verify, cert, json)\u001b[0m\n\u001b[0;32m    560\u001b[0m \u001b[39m# Create the Request.\u001b[39;00m\n\u001b[0;32m    561\u001b[0m req \u001b[39m=\u001b[39m Request(\n\u001b[0;32m    562\u001b[0m     method\u001b[39m=\u001b[39mmethod\u001b[39m.\u001b[39mupper(),\n\u001b[0;32m    563\u001b[0m     url\u001b[39m=\u001b[39murl,\n\u001b[1;32m   (...)\u001b[0m\n\u001b[0;32m    571\u001b[0m     hooks\u001b[39m=\u001b[39mhooks,\n\u001b[0;32m    572\u001b[0m )\n\u001b[1;32m--> 573\u001b[0m prep \u001b[39m=\u001b[39m \u001b[39mself\u001b[39;49m\u001b[39m.\u001b[39;49mprepare_request(req)\n\u001b[0;32m    575\u001b[0m proxies \u001b[39m=\u001b[39m proxies \u001b[39mor\u001b[39;00m {}\n\u001b[0;32m    577\u001b[0m settings \u001b[39m=\u001b[39m \u001b[39mself\u001b[39m\u001b[39m.\u001b[39mmerge_environment_settings(\n\u001b[0;32m    578\u001b[0m     prep\u001b[39m.\u001b[39murl, proxies, stream, verify, cert\n\u001b[0;32m    579\u001b[0m )\n",
      "File \u001b[1;32mc:\\Users\\Georg\\anaconda3\\envs\\daenv\\lib\\site-packages\\requests\\sessions.py:484\u001b[0m, in \u001b[0;36mSession.prepare_request\u001b[1;34m(self, request)\u001b[0m\n\u001b[0;32m    481\u001b[0m     auth \u001b[39m=\u001b[39m get_netrc_auth(request\u001b[39m.\u001b[39murl)\n\u001b[0;32m    483\u001b[0m p \u001b[39m=\u001b[39m PreparedRequest()\n\u001b[1;32m--> 484\u001b[0m p\u001b[39m.\u001b[39;49mprepare(\n\u001b[0;32m    485\u001b[0m     method\u001b[39m=\u001b[39;49mrequest\u001b[39m.\u001b[39;49mmethod\u001b[39m.\u001b[39;49mupper(),\n\u001b[0;32m    486\u001b[0m     url\u001b[39m=\u001b[39;49mrequest\u001b[39m.\u001b[39;49murl,\n\u001b[0;32m    487\u001b[0m     files\u001b[39m=\u001b[39;49mrequest\u001b[39m.\u001b[39;49mfiles,\n\u001b[0;32m    488\u001b[0m     data\u001b[39m=\u001b[39;49mrequest\u001b[39m.\u001b[39;49mdata,\n\u001b[0;32m    489\u001b[0m     json\u001b[39m=\u001b[39;49mrequest\u001b[39m.\u001b[39;49mjson,\n\u001b[0;32m    490\u001b[0m     headers\u001b[39m=\u001b[39;49mmerge_setting(\n\u001b[0;32m    491\u001b[0m         request\u001b[39m.\u001b[39;49mheaders, \u001b[39mself\u001b[39;49m\u001b[39m.\u001b[39;49mheaders, dict_class\u001b[39m=\u001b[39;49mCaseInsensitiveDict\n\u001b[0;32m    492\u001b[0m     ),\n\u001b[0;32m    493\u001b[0m     params\u001b[39m=\u001b[39;49mmerge_setting(request\u001b[39m.\u001b[39;49mparams, \u001b[39mself\u001b[39;49m\u001b[39m.\u001b[39;49mparams),\n\u001b[0;32m    494\u001b[0m     auth\u001b[39m=\u001b[39;49mmerge_setting(auth, \u001b[39mself\u001b[39;49m\u001b[39m.\u001b[39;49mauth),\n\u001b[0;32m    495\u001b[0m     cookies\u001b[39m=\u001b[39;49mmerged_cookies,\n\u001b[0;32m    496\u001b[0m     hooks\u001b[39m=\u001b[39;49mmerge_hooks(request\u001b[39m.\u001b[39;49mhooks, \u001b[39mself\u001b[39;49m\u001b[39m.\u001b[39;49mhooks),\n\u001b[0;32m    497\u001b[0m )\n\u001b[0;32m    498\u001b[0m \u001b[39mreturn\u001b[39;00m p\n",
      "File \u001b[1;32mc:\\Users\\Georg\\anaconda3\\envs\\daenv\\lib\\site-packages\\requests\\models.py:371\u001b[0m, in \u001b[0;36mPreparedRequest.prepare\u001b[1;34m(self, method, url, headers, files, data, params, auth, cookies, hooks, json)\u001b[0m\n\u001b[0;32m    369\u001b[0m \u001b[39mself\u001b[39m\u001b[39m.\u001b[39mprepare_headers(headers)\n\u001b[0;32m    370\u001b[0m \u001b[39mself\u001b[39m\u001b[39m.\u001b[39mprepare_cookies(cookies)\n\u001b[1;32m--> 371\u001b[0m \u001b[39mself\u001b[39;49m\u001b[39m.\u001b[39;49mprepare_body(data, files, json)\n\u001b[0;32m    372\u001b[0m \u001b[39mself\u001b[39m\u001b[39m.\u001b[39mprepare_auth(auth, url)\n\u001b[0;32m    374\u001b[0m \u001b[39m# Note that prepare_auth must be last to enable authentication schemes\u001b[39;00m\n\u001b[0;32m    375\u001b[0m \u001b[39m# such as OAuth to work on a fully prepared request.\u001b[39;00m\n\u001b[0;32m    376\u001b[0m \n\u001b[0;32m    377\u001b[0m \u001b[39m# This MUST go after prepare_auth. Authenticators could add a hook\u001b[39;00m\n",
      "File \u001b[1;32mc:\\Users\\Georg\\anaconda3\\envs\\daenv\\lib\\site-packages\\requests\\models.py:511\u001b[0m, in \u001b[0;36mPreparedRequest.prepare_body\u001b[1;34m(self, data, files, json)\u001b[0m\n\u001b[0;32m    508\u001b[0m content_type \u001b[39m=\u001b[39m \u001b[39m\"\u001b[39m\u001b[39mapplication/json\u001b[39m\u001b[39m\"\u001b[39m\n\u001b[0;32m    510\u001b[0m \u001b[39mtry\u001b[39;00m:\n\u001b[1;32m--> 511\u001b[0m     body \u001b[39m=\u001b[39m complexjson\u001b[39m.\u001b[39;49mdumps(json, allow_nan\u001b[39m=\u001b[39;49m\u001b[39mFalse\u001b[39;49;00m)\n\u001b[0;32m    512\u001b[0m \u001b[39mexcept\u001b[39;00m \u001b[39mValueError\u001b[39;00m \u001b[39mas\u001b[39;00m ve:\n\u001b[0;32m    513\u001b[0m     \u001b[39mraise\u001b[39;00m InvalidJSONError(ve, request\u001b[39m=\u001b[39m\u001b[39mself\u001b[39m)\n",
      "File \u001b[1;32mc:\\Users\\Georg\\anaconda3\\envs\\daenv\\lib\\json\\__init__.py:234\u001b[0m, in \u001b[0;36mdumps\u001b[1;34m(obj, skipkeys, ensure_ascii, check_circular, allow_nan, cls, indent, separators, default, sort_keys, **kw)\u001b[0m\n\u001b[0;32m    232\u001b[0m \u001b[39mif\u001b[39;00m \u001b[39mcls\u001b[39m \u001b[39mis\u001b[39;00m \u001b[39mNone\u001b[39;00m:\n\u001b[0;32m    233\u001b[0m     \u001b[39mcls\u001b[39m \u001b[39m=\u001b[39m JSONEncoder\n\u001b[1;32m--> 234\u001b[0m \u001b[39mreturn\u001b[39;00m \u001b[39mcls\u001b[39;49m(\n\u001b[0;32m    235\u001b[0m     skipkeys\u001b[39m=\u001b[39;49mskipkeys, ensure_ascii\u001b[39m=\u001b[39;49mensure_ascii,\n\u001b[0;32m    236\u001b[0m     check_circular\u001b[39m=\u001b[39;49mcheck_circular, allow_nan\u001b[39m=\u001b[39;49mallow_nan, indent\u001b[39m=\u001b[39;49mindent,\n\u001b[0;32m    237\u001b[0m     separators\u001b[39m=\u001b[39;49mseparators, default\u001b[39m=\u001b[39;49mdefault, sort_keys\u001b[39m=\u001b[39;49msort_keys,\n\u001b[0;32m    238\u001b[0m     \u001b[39m*\u001b[39;49m\u001b[39m*\u001b[39;49mkw)\u001b[39m.\u001b[39;49mencode(obj)\n",
      "File \u001b[1;32mc:\\Users\\Georg\\anaconda3\\envs\\daenv\\lib\\json\\encoder.py:199\u001b[0m, in \u001b[0;36mJSONEncoder.encode\u001b[1;34m(self, o)\u001b[0m\n\u001b[0;32m    195\u001b[0m         \u001b[39mreturn\u001b[39;00m encode_basestring(o)\n\u001b[0;32m    196\u001b[0m \u001b[39m# This doesn't pass the iterator directly to ''.join() because the\u001b[39;00m\n\u001b[0;32m    197\u001b[0m \u001b[39m# exceptions aren't as detailed.  The list call should be roughly\u001b[39;00m\n\u001b[0;32m    198\u001b[0m \u001b[39m# equivalent to the PySequence_Fast that ''.join() would do.\u001b[39;00m\n\u001b[1;32m--> 199\u001b[0m chunks \u001b[39m=\u001b[39m \u001b[39mself\u001b[39;49m\u001b[39m.\u001b[39;49miterencode(o, _one_shot\u001b[39m=\u001b[39;49m\u001b[39mTrue\u001b[39;49;00m)\n\u001b[0;32m    200\u001b[0m \u001b[39mif\u001b[39;00m \u001b[39mnot\u001b[39;00m \u001b[39misinstance\u001b[39m(chunks, (\u001b[39mlist\u001b[39m, \u001b[39mtuple\u001b[39m)):\n\u001b[0;32m    201\u001b[0m     chunks \u001b[39m=\u001b[39m \u001b[39mlist\u001b[39m(chunks)\n",
      "File \u001b[1;32mc:\\Users\\Georg\\anaconda3\\envs\\daenv\\lib\\json\\encoder.py:257\u001b[0m, in \u001b[0;36mJSONEncoder.iterencode\u001b[1;34m(self, o, _one_shot)\u001b[0m\n\u001b[0;32m    252\u001b[0m \u001b[39melse\u001b[39;00m:\n\u001b[0;32m    253\u001b[0m     _iterencode \u001b[39m=\u001b[39m _make_iterencode(\n\u001b[0;32m    254\u001b[0m         markers, \u001b[39mself\u001b[39m\u001b[39m.\u001b[39mdefault, _encoder, \u001b[39mself\u001b[39m\u001b[39m.\u001b[39mindent, floatstr,\n\u001b[0;32m    255\u001b[0m         \u001b[39mself\u001b[39m\u001b[39m.\u001b[39mkey_separator, \u001b[39mself\u001b[39m\u001b[39m.\u001b[39mitem_separator, \u001b[39mself\u001b[39m\u001b[39m.\u001b[39msort_keys,\n\u001b[0;32m    256\u001b[0m         \u001b[39mself\u001b[39m\u001b[39m.\u001b[39mskipkeys, _one_shot)\n\u001b[1;32m--> 257\u001b[0m \u001b[39mreturn\u001b[39;00m _iterencode(o, \u001b[39m0\u001b[39;49m)\n",
      "File \u001b[1;32mc:\\Users\\Georg\\anaconda3\\envs\\daenv\\lib\\json\\encoder.py:179\u001b[0m, in \u001b[0;36mJSONEncoder.default\u001b[1;34m(self, o)\u001b[0m\n\u001b[0;32m    160\u001b[0m \u001b[39mdef\u001b[39;00m \u001b[39mdefault\u001b[39m(\u001b[39mself\u001b[39m, o):\n\u001b[0;32m    161\u001b[0m     \u001b[39m\"\"\"Implement this method in a subclass such that it returns\u001b[39;00m\n\u001b[0;32m    162\u001b[0m \u001b[39m    a serializable object for ``o``, or calls the base implementation\u001b[39;00m\n\u001b[0;32m    163\u001b[0m \u001b[39m    (to raise a ``TypeError``).\u001b[39;00m\n\u001b[1;32m   (...)\u001b[0m\n\u001b[0;32m    177\u001b[0m \n\u001b[0;32m    178\u001b[0m \u001b[39m    \"\"\"\u001b[39;00m\n\u001b[1;32m--> 179\u001b[0m     \u001b[39mraise\u001b[39;00m \u001b[39mTypeError\u001b[39;00m(\u001b[39mf\u001b[39m\u001b[39m'\u001b[39m\u001b[39mObject of type \u001b[39m\u001b[39m{\u001b[39;00mo\u001b[39m.\u001b[39m\u001b[39m__class__\u001b[39m\u001b[39m.\u001b[39m\u001b[39m__name__\u001b[39m\u001b[39m}\u001b[39;00m\u001b[39m \u001b[39m\u001b[39m'\u001b[39m\n\u001b[0;32m    180\u001b[0m                     \u001b[39mf\u001b[39m\u001b[39m'\u001b[39m\u001b[39mis not JSON serializable\u001b[39m\u001b[39m'\u001b[39m)\n",
      "\u001b[1;31mTypeError\u001b[0m: Object of type set is not JSON serializable"
     ]
    }
   ],
   "source": [
    "import json\n",
    "import folium\n",
    "import openrouteservice as ors\n",
    "from openrouteservice.isochrones import isochrones\n",
    "\n",
    "client = ors.Client(key='5b3ce3597851110001cf6248fadb94ffd01d455fb2bb86e68caf8f87')\n",
    "\n",
    "lat = 47.502394 #ZHAW\n",
    "lon = 8.7263853 #ZHAW\n",
    "\n",
    "# ORS-Isochrones with statistics\n",
    "isochrone_geojson = isochrones(client, (lon, lat), intervals=[600, 1200, 1800], attributes={'total_pop'}, profile='driving-car')\n",
    "\n",
    "# Extract population data\n",
    "pop_sting = 'Population for: '\n",
    "for x in range(0, len(isochrone_geojson['features'])):\n",
    "    total_pop = (isochrone_geojson['features'][x]['properties']['total_pop'])\n",
    "    pop_sting += 'Isochrone {} is {} | '.format(x, total_pop)\n",
    "\n",
    "# Folium map with marker\n",
    "map_osm = folium.Map(location=[lat, lon]) # Folum map\n",
    "folium.GeoJson(isochrone_geojson).add_to(map_osm) # Add data to map\n",
    "folium.Marker([lat, lon], popup=pop_sting).add_to(map_osm) # Add marker to map"
   ]
  },
  {
   "attachments": {},
   "cell_type": "markdown",
   "id": "1dc286ee",
   "metadata": {},
   "source": [
    "# Routing\n",
    "<a id='section_1'></a>"
   ]
  },
  {
   "cell_type": "code",
   "execution_count": 2,
   "metadata": {},
   "outputs": [
    {
     "data": {
      "text/plain": [
       "<folium.features.GeoJson at 0x16cfaf8c8b0>"
      ]
     },
     "execution_count": 2,
     "metadata": {},
     "output_type": "execute_result"
    }
   ],
   "source": [
    "# Imports\n",
    "from openrouteservice.directions import directions\n",
    "\n",
    "# Route Nr.1\n",
    "\n",
    "47.485742924313925, 8.704755889378138\n",
    "coords1 = 8.726374, 47.50241 #ZHAW Winterthur\n",
    "coords2 = 8.704755, 47.48574 #Migrol Winterthur\n",
    "\n",
    "route1 = directions(client, ((coords1), (coords2)),\n",
    "                    format_out='geojson', profile='driving-hgv') #ORS\n",
    "\n",
    "map_osm = folium.Map(location=[47.494075, 8.715564], zoom_start=14) # Folium Map\n",
    "folium.GeoJson(route1).add_to(map_osm) # Add to map"
   ]
  },
  {
   "cell_type": "code",
   "execution_count": 4,
   "metadata": {},
   "outputs": [
    {
     "ename": "ApiError",
     "evalue": "404 ({'error': {'code': 2010, 'message': 'Could not find routable point within a radius of 350.0 meters of specified coordinate 0: 47.5024100 8.7263740.; Could not find routable point within a radius of 350.0 meters of specified coordinate 1: 47.5020300 8.7333960.'}, 'info': {'engine': {'version': '6.8.0', 'build_date': '2022-10-21T14:34:31Z'}, 'timestamp': 1671530418638}})",
     "output_type": "error",
     "traceback": [
      "\u001b[1;31m---------------------------------------------------------------------------\u001b[0m",
      "\u001b[1;31mApiError\u001b[0m                                  Traceback (most recent call last)",
      "Cell \u001b[1;32mIn [4], line 6\u001b[0m\n\u001b[0;32m      4\u001b[0m \u001b[39mfor\u001b[39;00m x \u001b[39min\u001b[39;00m \u001b[39mrange\u001b[39m(\u001b[39m0\u001b[39m, \u001b[39mlen\u001b[39m(coords)\u001b[39m-\u001b[39m\u001b[39m1\u001b[39m):\n\u001b[0;32m      5\u001b[0m     coordinates \u001b[39m=\u001b[39m ((coords[x][\u001b[39m1\u001b[39m], coords[x][\u001b[39m0\u001b[39m]), (coords[x\u001b[39m+\u001b[39m\u001b[39m1\u001b[39m][\u001b[39m1\u001b[39m], coords[x\u001b[39m+\u001b[39m\u001b[39m1\u001b[39m][\u001b[39m0\u001b[39m])) \u001b[39m# Coordinates\u001b[39;00m\n\u001b[1;32m----> 6\u001b[0m     geojson \u001b[39m=\u001b[39m directions(client, coordinates, format_out\u001b[39m=\u001b[39;49m\u001b[39m'\u001b[39;49m\u001b[39mgeojson\u001b[39;49m\u001b[39m'\u001b[39;49m) \u001b[39m# ORS\u001b[39;00m\n\u001b[0;32m      7\u001b[0m     \u001b[39mfor\u001b[39;00m y \u001b[39min\u001b[39;00m \u001b[39mrange\u001b[39m(\u001b[39m0\u001b[39m, \u001b[39mlen\u001b[39m(geojson[\u001b[39m'\u001b[39m\u001b[39mfeatures\u001b[39m\u001b[39m'\u001b[39m][\u001b[39m0\u001b[39m][\u001b[39m'\u001b[39m\u001b[39mproperties\u001b[39m\u001b[39m'\u001b[39m][\u001b[39m'\u001b[39m\u001b[39msegments\u001b[39m\u001b[39m'\u001b[39m])): \u001b[39m# Features\u001b[39;00m\n\u001b[0;32m      8\u001b[0m         time \u001b[39m+\u001b[39m\u001b[39m=\u001b[39m geojson[\u001b[39m'\u001b[39m\u001b[39mfeatures\u001b[39m\u001b[39m'\u001b[39m][\u001b[39m0\u001b[39m][\u001b[39m'\u001b[39m\u001b[39mproperties\u001b[39m\u001b[39m'\u001b[39m][\u001b[39m'\u001b[39m\u001b[39msegments\u001b[39m\u001b[39m'\u001b[39m][y][\u001b[39m'\u001b[39m\u001b[39mduration\u001b[39m\u001b[39m'\u001b[39m]\n",
      "File \u001b[1;32mc:\\Users\\Georg\\anaconda3\\envs\\daenv\\lib\\site-packages\\openrouteservice\\directions.py:262\u001b[0m, in \u001b[0;36mdirections\u001b[1;34m(client, coordinates, profile, format_out, format, preference, units, language, geometry, geometry_simplify, instructions, instructions_format, roundabout_exits, attributes, maneuvers, radiuses, bearings, continue_straight, elevation, extra_info, suppress_warnings, optimized, optimize_waypoints, options, validate, dry_run)\u001b[0m\n\u001b[0;32m    259\u001b[0m \u001b[39mif\u001b[39;00m options:\n\u001b[0;32m    260\u001b[0m     params[\u001b[39m'\u001b[39m\u001b[39moptions\u001b[39m\u001b[39m'\u001b[39m] \u001b[39m=\u001b[39m options\n\u001b[1;32m--> 262\u001b[0m \u001b[39mreturn\u001b[39;00m client\u001b[39m.\u001b[39;49mrequest(\u001b[39m\"\u001b[39;49m\u001b[39m/v2/directions/\u001b[39;49m\u001b[39m\"\u001b[39;49m \u001b[39m+\u001b[39;49m profile \u001b[39m+\u001b[39;49m \u001b[39m'\u001b[39;49m\u001b[39m/\u001b[39;49m\u001b[39m'\u001b[39;49m \u001b[39m+\u001b[39;49m \u001b[39mformat\u001b[39;49m, {}, post_json\u001b[39m=\u001b[39;49mparams, dry_run\u001b[39m=\u001b[39;49mdry_run)\n",
      "File \u001b[1;32mc:\\Users\\Georg\\anaconda3\\envs\\daenv\\lib\\site-packages\\openrouteservice\\client.py:204\u001b[0m, in \u001b[0;36mClient.request\u001b[1;34m(self, url, get_params, first_request_time, retry_counter, requests_kwargs, post_json, dry_run)\u001b[0m\n\u001b[0;32m    200\u001b[0m     \u001b[39mreturn\u001b[39;00m \u001b[39mself\u001b[39m\u001b[39m.\u001b[39mrequest(url, get_params, first_request_time,\n\u001b[0;32m    201\u001b[0m                         retry_counter \u001b[39m+\u001b[39m \u001b[39m1\u001b[39m, requests_kwargs, post_json)\n\u001b[0;32m    203\u001b[0m \u001b[39mtry\u001b[39;00m:\n\u001b[1;32m--> 204\u001b[0m     result \u001b[39m=\u001b[39m \u001b[39mself\u001b[39;49m\u001b[39m.\u001b[39;49m_get_body(response)\n\u001b[0;32m    206\u001b[0m     \u001b[39mreturn\u001b[39;00m result\n\u001b[0;32m    207\u001b[0m \u001b[39mexcept\u001b[39;00m exceptions\u001b[39m.\u001b[39m_RetriableRequest \u001b[39mas\u001b[39;00m e:\n",
      "File \u001b[1;32mc:\\Users\\Georg\\anaconda3\\envs\\daenv\\lib\\site-packages\\openrouteservice\\client.py:238\u001b[0m, in \u001b[0;36mClient._get_body\u001b[1;34m(response)\u001b[0m\n\u001b[0;32m    233\u001b[0m     \u001b[39mraise\u001b[39;00m exceptions\u001b[39m.\u001b[39m_OverQueryLimit(\n\u001b[0;32m    234\u001b[0m         status_code,\n\u001b[0;32m    235\u001b[0m         body\n\u001b[0;32m    236\u001b[0m     )\n\u001b[0;32m    237\u001b[0m \u001b[39mif\u001b[39;00m status_code \u001b[39m!=\u001b[39m \u001b[39m200\u001b[39m:\n\u001b[1;32m--> 238\u001b[0m     \u001b[39mraise\u001b[39;00m exceptions\u001b[39m.\u001b[39mApiError(\n\u001b[0;32m    239\u001b[0m         status_code,\n\u001b[0;32m    240\u001b[0m         body\n\u001b[0;32m    241\u001b[0m     )\n\u001b[0;32m    243\u001b[0m \u001b[39mreturn\u001b[39;00m body\n",
      "\u001b[1;31mApiError\u001b[0m: 404 ({'error': {'code': 2010, 'message': 'Could not find routable point within a radius of 350.0 meters of specified coordinate 0: 47.5024100 8.7263740.; Could not find routable point within a radius of 350.0 meters of specified coordinate 1: 47.5020300 8.7333960.'}, 'info': {'engine': {'version': '6.8.0', 'build_date': '2022-10-21T14:34:31Z'}, 'timestamp': 1671530418638}})"
     ]
    }
   ],
   "source": [
    "#Process data\n",
    "time = 0 # Total time counter\n",
    "distance = 0 # Total distance counter\n",
    "for x in range(0, len(coords)-1):\n",
    "    coordinates = ((coords[x][1], coords[x][0]), (coords[x+1][1], coords[x+1][0])) # Coordinates\n",
    "    geojson = directions(client, coordinates, format_out='geojson') # ORS\n",
    "    for y in range(0, len(geojson['features'][0]['properties']['segments'])): # Features\n",
    "        time += geojson['features'][0]['properties']['segments'][y]['duration']\n",
    "        distance += geojson['features'][0]['properties']['segments'][y]['distance']\n",
    "    folium.GeoJson(geojson).add_to(map_osm) # Add to map\n",
    "    print('OK! {} | {}'.format(x, coordinates))"
   ]
  },
  {
   "cell_type": "code",
   "execution_count": 6,
   "metadata": {},
   "outputs": [
    {
     "data": {
      "text/html": [
       "<div style=\"width:100%;\"><div style=\"position:relative;width:100%;height:0;padding-bottom:60%;\"><span style=\"color:#565656\">Make this Notebook Trusted to load map: File -> Trust Notebook</span><iframe srcdoc=\"&lt;!DOCTYPE html&gt;\n",
       "&lt;head&gt;    \n",
       "    &lt;meta http-equiv=&quot;content-type&quot; content=&quot;text/html; charset=UTF-8&quot; /&gt;\n",
       "    \n",
       "        &lt;script&gt;\n",
       "            L_NO_TOUCH = false;\n",
       "            L_DISABLE_3D = false;\n",
       "        &lt;/script&gt;\n",
       "    \n",
       "    &lt;style&gt;html, body {width: 100%;height: 100%;margin: 0;padding: 0;}&lt;/style&gt;\n",
       "    &lt;style&gt;#map {position:absolute;top:0;bottom:0;right:0;left:0;}&lt;/style&gt;\n",
       "    &lt;script src=&quot;https://cdn.jsdelivr.net/npm/leaflet@1.6.0/dist/leaflet.js&quot;&gt;&lt;/script&gt;\n",
       "    &lt;script src=&quot;https://code.jquery.com/jquery-1.12.4.min.js&quot;&gt;&lt;/script&gt;\n",
       "    &lt;script src=&quot;https://maxcdn.bootstrapcdn.com/bootstrap/3.2.0/js/bootstrap.min.js&quot;&gt;&lt;/script&gt;\n",
       "    &lt;script src=&quot;https://cdnjs.cloudflare.com/ajax/libs/Leaflet.awesome-markers/2.0.2/leaflet.awesome-markers.js&quot;&gt;&lt;/script&gt;\n",
       "    &lt;link rel=&quot;stylesheet&quot; href=&quot;https://cdn.jsdelivr.net/npm/leaflet@1.6.0/dist/leaflet.css&quot;/&gt;\n",
       "    &lt;link rel=&quot;stylesheet&quot; href=&quot;https://maxcdn.bootstrapcdn.com/bootstrap/3.2.0/css/bootstrap.min.css&quot;/&gt;\n",
       "    &lt;link rel=&quot;stylesheet&quot; href=&quot;https://maxcdn.bootstrapcdn.com/bootstrap/3.2.0/css/bootstrap-theme.min.css&quot;/&gt;\n",
       "    &lt;link rel=&quot;stylesheet&quot; href=&quot;https://maxcdn.bootstrapcdn.com/font-awesome/4.6.3/css/font-awesome.min.css&quot;/&gt;\n",
       "    &lt;link rel=&quot;stylesheet&quot; href=&quot;https://cdnjs.cloudflare.com/ajax/libs/Leaflet.awesome-markers/2.0.2/leaflet.awesome-markers.css&quot;/&gt;\n",
       "    &lt;link rel=&quot;stylesheet&quot; href=&quot;https://cdn.jsdelivr.net/gh/python-visualization/folium/folium/templates/leaflet.awesome.rotate.min.css&quot;/&gt;\n",
       "    \n",
       "            &lt;meta name=&quot;viewport&quot; content=&quot;width=device-width,\n",
       "                initial-scale=1.0, maximum-scale=1.0, user-scalable=no&quot; /&gt;\n",
       "            &lt;style&gt;\n",
       "                #map_9497aaec597b6c82f05c2901b2983de9 {\n",
       "                    position: relative;\n",
       "                    width: 100.0%;\n",
       "                    height: 100.0%;\n",
       "                    left: 0.0%;\n",
       "                    top: 0.0%;\n",
       "                }\n",
       "            &lt;/style&gt;\n",
       "        \n",
       "&lt;/head&gt;\n",
       "&lt;body&gt;    \n",
       "    \n",
       "            &lt;div class=&quot;folium-map&quot; id=&quot;map_9497aaec597b6c82f05c2901b2983de9&quot; &gt;&lt;/div&gt;\n",
       "        \n",
       "&lt;/body&gt;\n",
       "&lt;script&gt;    \n",
       "    \n",
       "            var map_9497aaec597b6c82f05c2901b2983de9 = L.map(\n",
       "                &quot;map_9497aaec597b6c82f05c2901b2983de9&quot;,\n",
       "                {\n",
       "                    center: [47.494075, 8.715564],\n",
       "                    crs: L.CRS.EPSG3857,\n",
       "                    zoom: 14,\n",
       "                    zoomControl: true,\n",
       "                    preferCanvas: false,\n",
       "                }\n",
       "            );\n",
       "\n",
       "            \n",
       "\n",
       "        \n",
       "    \n",
       "            var tile_layer_96f59b33404ea3f9bb1717c7d8e6dc94 = L.tileLayer(\n",
       "                &quot;https://{s}.tile.openstreetmap.org/{z}/{x}/{y}.png&quot;,\n",
       "                {&quot;attribution&quot;: &quot;Data by \\u0026copy; \\u003ca href=\\&quot;http://openstreetmap.org\\&quot;\\u003eOpenStreetMap\\u003c/a\\u003e, under \\u003ca href=\\&quot;http://www.openstreetmap.org/copyright\\&quot;\\u003eODbL\\u003c/a\\u003e.&quot;, &quot;detectRetina&quot;: false, &quot;maxNativeZoom&quot;: 18, &quot;maxZoom&quot;: 18, &quot;minZoom&quot;: 0, &quot;noWrap&quot;: false, &quot;opacity&quot;: 1, &quot;subdomains&quot;: &quot;abc&quot;, &quot;tms&quot;: false}\n",
       "            ).addTo(map_9497aaec597b6c82f05c2901b2983de9);\n",
       "        \n",
       "    \n",
       "\n",
       "        function geo_json_d2ab116a46725f133d6ec8f08cd72940_onEachFeature(feature, layer) {\n",
       "            layer.on({\n",
       "            });\n",
       "        };\n",
       "        var geo_json_d2ab116a46725f133d6ec8f08cd72940 = L.geoJson(null, {\n",
       "                onEachFeature: geo_json_d2ab116a46725f133d6ec8f08cd72940_onEachFeature,\n",
       "            \n",
       "        });\n",
       "\n",
       "        function geo_json_d2ab116a46725f133d6ec8f08cd72940_add (data) {\n",
       "            geo_json_d2ab116a46725f133d6ec8f08cd72940\n",
       "                .addData(data)\n",
       "                .addTo(map_9497aaec597b6c82f05c2901b2983de9);\n",
       "        }\n",
       "            geo_json_d2ab116a46725f133d6ec8f08cd72940_add({&quot;bbox&quot;: [8.704423, 47.484353, 8.726377, 47.503521], &quot;features&quot;: [{&quot;bbox&quot;: [8.704423, 47.484353, 8.726377, 47.503521], &quot;geometry&quot;: {&quot;coordinates&quot;: [[8.726377, 47.502499], [8.726133, 47.502503], [8.725956, 47.502513], [8.725692, 47.502532], [8.725312, 47.50261], [8.724955, 47.502638], [8.724533, 47.502632], [8.72431, 47.502687], [8.724241, 47.502708], [8.724018, 47.502773], [8.723583, 47.502921], [8.723399, 47.502986], [8.72303, 47.503131], [8.722804, 47.503222], [8.722539, 47.503329], [8.72234, 47.503409], [8.7222, 47.503465], [8.722056, 47.503521], [8.721969, 47.503399], [8.721871, 47.503265], [8.721698, 47.503029], [8.721516, 47.502832], [8.721448, 47.502727], [8.721131, 47.50229], [8.721003, 47.502119], [8.720697, 47.50171], [8.720554, 47.501519], [8.720507, 47.501454], [8.72045, 47.501377], [8.720137, 47.500961], [8.720075, 47.500879], [8.719737, 47.500419], [8.7197, 47.500381], [8.719657, 47.500349], [8.719605, 47.500322], [8.719256, 47.500216], [8.719151, 47.500167], [8.719027, 47.500066], [8.71872, 47.49972], [8.718639, 47.499629], [8.718409, 47.499369], [8.71835, 47.499304], [8.718192, 47.499131], [8.717736, 47.498614], [8.717698, 47.498573], [8.717668, 47.498539], [8.717655, 47.498525], [8.717429, 47.498273], [8.717354, 47.49819], [8.717354, 47.498075], [8.717131, 47.498012], [8.716816, 47.497896], [8.716533, 47.497744], [8.716252, 47.497563], [8.715829, 47.497298], [8.715324, 47.49698], [8.715127, 47.496853], [8.714951, 47.496739], [8.714859, 47.496682], [8.714615, 47.496526], [8.714161, 47.496236], [8.714031, 47.496153], [8.713672, 47.495925], [8.713638, 47.495903], [8.713527, 47.495832], [8.713408, 47.495757], [8.713296, 47.495686], [8.713233, 47.495646], [8.712868, 47.495421], [8.712541, 47.495212], [8.711952, 47.494837], [8.711805, 47.494738], [8.711299, 47.494421], [8.7112, 47.494357], [8.710816, 47.494108], [8.710632, 47.493995], [8.710778, 47.493889], [8.711091, 47.493663], [8.711306, 47.493507], [8.711323, 47.493495], [8.711372, 47.49346], [8.71157, 47.493317], [8.711769, 47.493173], [8.711967, 47.493029], [8.712168, 47.492888], [8.712335, 47.492764], [8.712426, 47.492702], [8.712523, 47.492638], [8.713659, 47.491988], [8.713866, 47.491867], [8.713975, 47.491804], [8.714076, 47.491745], [8.714446, 47.49152], [8.71456, 47.491454], [8.714991, 47.491217], [8.71522, 47.491089], [8.715677, 47.490844], [8.7162, 47.490604], [8.716913, 47.490316], [8.71697, 47.490294], [8.71707, 47.490255], [8.717009, 47.490176], [8.716674, 47.489737], [8.716478, 47.489541], [8.715437, 47.488735], [8.714693, 47.488069], [8.714337, 47.487705], [8.714067, 47.48739], [8.714034, 47.487352], [8.713539, 47.486743], [8.713127, 47.486239], [8.712894, 47.485993], [8.712265, 47.485479], [8.712167, 47.485359], [8.712077, 47.485165], [8.712063, 47.4851], [8.712045, 47.485019], [8.712051, 47.484753], [8.712016, 47.484626], [8.71194, 47.484531], [8.711869, 47.484489], [8.711772, 47.484458], [8.7117, 47.484447], [8.711617, 47.484447], [8.711465, 47.484469], [8.711141, 47.484551], [8.710782, 47.484642], [8.71066, 47.484673], [8.710575, 47.484694], [8.710496, 47.484714], [8.710169, 47.484795], [8.709164, 47.485044], [8.708782, 47.48513], [8.708408, 47.485215], [8.708229, 47.485227], [8.708036, 47.485202], [8.707374, 47.485026], [8.706882, 47.484893], [8.706713, 47.484848], [8.706294, 47.484748], [8.706265, 47.484741], [8.705682, 47.484585], [8.705639, 47.484574], [8.705321, 47.484486], [8.705209, 47.484485], [8.705002, 47.48444], [8.704801, 47.484396], [8.704616, 47.484353], [8.704585, 47.48445], [8.704528, 47.48462], [8.704516, 47.484651], [8.704507, 47.484674], [8.704461, 47.484791], [8.704452, 47.484816], [8.704443, 47.484837], [8.704423, 47.484889], [8.704468, 47.484899], [8.705169, 47.485043], [8.705229, 47.485087], [8.704917, 47.485749], [8.704759, 47.485761]], &quot;type&quot;: &quot;LineString&quot;}, &quot;properties&quot;: {&quot;segments&quot;: [{&quot;distance&quot;: 3941.7, &quot;duration&quot;: 508.5, &quot;steps&quot;: [{&quot;distance&quot;: 81.5, &quot;duration&quot;: 16.5, &quot;instruction&quot;: &quot;Head west on St.-Georgen-Strasse, 7&quot;, &quot;name&quot;: &quot;St.-Georgen-Strasse, 7&quot;, &quot;type&quot;: 11, &quot;way_points&quot;: [0, 4]}, {&quot;distance&quot;: 269.8, &quot;duration&quot;: 41.9, &quot;instruction&quot;: &quot;Keep left onto W\\u00fclflingerstrasse, 7&quot;, &quot;name&quot;: &quot;W\\u00fclflingerstrasse, 7&quot;, &quot;type&quot;: 12, &quot;way_points&quot;: [4, 17]}, {&quot;distance&quot;: 710.6, &quot;duration&quot;: 81.1, &quot;instruction&quot;: &quot;Turn left onto Neuwiesenstrasse&quot;, &quot;name&quot;: &quot;Neuwiesenstrasse&quot;, &quot;type&quot;: 0, &quot;way_points&quot;: [17, 49]}, {&quot;distance&quot;: 680.9, &quot;duration&quot;: 97.6, &quot;instruction&quot;: &quot;Turn right onto Z\\u00fcrcherstrasse, 1&quot;, &quot;name&quot;: &quot;Z\\u00fcrcherstrasse, 1&quot;, &quot;type&quot;: 1, &quot;way_points&quot;: [49, 75]}, {&quot;distance&quot;: 640.5, &quot;duration&quot;: 74.4, &quot;instruction&quot;: &quot;Turn left onto Untere Briggerstrasse&quot;, &quot;name&quot;: &quot;Untere Briggerstrasse&quot;, &quot;type&quot;: 0, &quot;way_points&quot;: [75, 100]}, {&quot;distance&quot;: 1340.5, &quot;duration&quot;: 150.7, &quot;instruction&quot;: &quot;Turn right onto Untere Vogelsangstrasse&quot;, &quot;name&quot;: &quot;Untere Vogelsangstrasse&quot;, &quot;type&quot;: 1, &quot;way_points&quot;: [100, 147]}, {&quot;distance&quot;: 61.3, &quot;duration&quot;: 8.8, &quot;instruction&quot;: &quot;Turn right onto In der Au&quot;, &quot;name&quot;: &quot;In der Au&quot;, &quot;type&quot;: 1, &quot;way_points&quot;: [147, 155]}, {&quot;distance&quot;: 156.5, &quot;duration&quot;: 37.6, &quot;instruction&quot;: &quot;Turn right&quot;, &quot;name&quot;: &quot;-&quot;, &quot;type&quot;: 1, &quot;way_points&quot;: [155, 160]}, {&quot;distance&quot;: 0.0, &quot;duration&quot;: 0.0, &quot;instruction&quot;: &quot;Arrive at your destination, on the left&quot;, &quot;name&quot;: &quot;-&quot;, &quot;type&quot;: 10, &quot;way_points&quot;: [160, 160]}]}], &quot;summary&quot;: {&quot;distance&quot;: 3941.7, &quot;duration&quot;: 508.5}, &quot;way_points&quot;: [0, 160]}, &quot;type&quot;: &quot;Feature&quot;}], &quot;metadata&quot;: {&quot;attribution&quot;: &quot;openrouteservice.org | OpenStreetMap contributors&quot;, &quot;engine&quot;: {&quot;build_date&quot;: &quot;2022-10-21T14:34:31Z&quot;, &quot;graph_date&quot;: &quot;2022-11-17T22:00:02Z&quot;, &quot;version&quot;: &quot;6.8.0&quot;}, &quot;query&quot;: {&quot;coordinates&quot;: [[8.726374, 47.50241], [8.704755, 47.48574]], &quot;format&quot;: &quot;geojson&quot;, &quot;profile&quot;: &quot;driving-hgv&quot;}, &quot;service&quot;: &quot;routing&quot;, &quot;timestamp&quot;: 1671530413085}, &quot;type&quot;: &quot;FeatureCollection&quot;});\n",
       "\n",
       "        \n",
       "&lt;/script&gt;\" style=\"position:absolute;width:100%;height:100%;left:0;top:0;border:none !important;\" allowfullscreen webkitallowfullscreen mozallowfullscreen></iframe></div></div>"
      ],
      "text/plain": [
       "<folium.folium.Map at 0x16cfafa24f0>"
      ]
     },
     "execution_count": 6,
     "metadata": {},
     "output_type": "execute_result"
    }
   ],
   "source": [
    "\n",
    "map_osm"
   ]
  },
  {
   "attachments": {},
   "cell_type": "markdown",
   "metadata": {},
   "source": [
    "# Jupyter notebook --footer info"
   ]
  },
  {
   "cell_type": "code",
   "execution_count": null,
   "metadata": {},
   "outputs": [],
   "source": [
    "import os\n",
    "import platform\n",
    "import socket\n",
    "from platform import python_version\n",
    "from datetime import datetime\n",
    "\n",
    "print('-----------------------------------')\n",
    "print(os.name.upper())\n",
    "print(platform.system(), '|', platform.release())\n",
    "print('Datetime:', datetime.now().strftime(\"%Y-%m-%d %H:%M:%S\"))\n",
    "print('Python Version:', python_version())\n",
    "print('-----------------------------------')"
   ]
  }
 ],
 "metadata": {
  "kernelspec": {
   "display_name": "base",
   "language": "python",
   "name": "python3"
  },
  "language_info": {
   "codemirror_mode": {
    "name": "ipython",
    "version": 3
   },
   "file_extension": ".py",
   "mimetype": "text/x-python",
   "name": "python",
   "nbconvert_exporter": "python",
   "pygments_lexer": "ipython3",
   "version": "3.9.12 (main, Apr  4 2022, 05:22:27) [MSC v.1916 64 bit (AMD64)]"
  },
  "orig_nbformat": 4,
  "vscode": {
   "interpreter": {
    "hash": "d192288afb6fd94a25d53813387de33cdb73d58ede8d8ef9904481b3def76078"
   }
  }
 },
 "nbformat": 4,
 "nbformat_minor": 2
}
