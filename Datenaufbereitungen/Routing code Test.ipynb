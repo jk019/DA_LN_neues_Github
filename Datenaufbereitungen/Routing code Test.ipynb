{
 "cells": [
  {
   "cell_type": "code",
   "execution_count": null,
   "metadata": {},
   "outputs": [],
   "source": [
    "from IPython.display import Image\n",
    "import json\n",
    "import folium\n",
    "import openrouteservice as ors\n",
    "from openrouteservice.isochrones import isochrones\n",
    "\n",
    "client = ors.Client(key='5b3ce3597851110001cf6248fadb94ffd01d455fb2bb86e68caf8f87')\n",
    "\n",
    "lat = 47.502394 #ZHAW\n",
    "lon = 8.7263853 #ZHAW\n",
    "\n",
    "# ORS-Isochrones with statistics\n",
    "\n",
    "isochrone_geojson = isochrones(client, (lon, lat), intervals=[600, 1200, 1800], \n",
    "attributes={'total_pop'}, profile='driving-car')\n",
    "\n",
    "# Extract population data\n",
    "pop_sting = 'Population for: '\n",
    "for x in range(0, len(isochrone_geojson['features'])):\n",
    "    total_pop = (isochrone_geojson['features'][x]['properties']['total_pop'])\n",
    "    pop_sting += 'Isochrone {} is {} | '.format(x, total_pop)\n",
    "\n",
    "# Folium map with marker\n",
    "map_osm = folium.Map(location=[lat, lon]) # Folium map\n",
    "folium.GeoJson(isochrone_geojson).add_to(map_osm) # Add data to map\n",
    "folium.Marker([lat, lon], popup=pop_sting).add_to(map_osm) # Add marker to map "
   ]
  },
  {
   "cell_type": "code",
   "execution_count": null,
   "metadata": {},
   "outputs": [],
   "source": [
    "#Imports\n",
    "from openrouteservice.directions import directions\n",
    "import pandas as pd\n",
    "\n",
    "# Prepare data\n",
    "df_ladestationen = pd.read_csv('../Ausgabedateien/locations_Ladestationen.csv')\n",
    "df = pd.read_csv('../Quelldateien/Test_Routing.csv')\n",
    "coords = []\n",
    "for x in range(0, len(df_ladestationen.index -1)):\n",
    "    coords.append(df_ladestationen.loc[x, 'Latitude':'Longitude'])\n",
    "print(df_ladestationen)\n",
    "\n",
    "map_osm1 = folium.Map(location=[47.494075, 8.715564], zoom_start=14) # Folium Map"
   ]
  },
  {
   "cell_type": "code",
   "execution_count": null,
   "metadata": {},
   "outputs": [],
   "source": [
    "#Process data\n",
    "time = 0 # Total time counter\n",
    "distance = 0 # Total distance counter\n",
    "for x in range(0, len(coords)-1):\n",
    "    coordinates = ((coords[x][1], coords[x][0]), (8.726374, 47.50241)) # Coordinates\n",
    "    geojson = directions(client, coordinates, format_out='geojson') # ORS\n",
    "    for y in range(0, len(geojson['features'][0]['properties']['segments'])): # Features\n",
    "        time += geojson['features'][0]['properties']['segments'][y]['duration']\n",
    "        distance += geojson['features'][0]['properties']['segments'][y]['distance']\n",
    "    folium.GeoJson(geojson).add_to(map_osm1) # Add to map\n",
    "    print('OK! {} | {}'.format(x, coordinates))"
   ]
  },
  {
   "cell_type": "code",
   "execution_count": null,
   "metadata": {},
   "outputs": [],
   "source": [
    "#Process data\n",
    "time = 0 # Total time counter\n",
    "distance = 0 # Total distance counter\n",
    "for x in range(0, len(coords)-1):\n",
    "    coordinates = ((coords[x][1], coords[x][0]), (coords[x+1][1], coords[x+1][0])) # Coordinates\n",
    "    geojson = directions(client, coordinates, format_out='geojson') # ORS\n",
    "    for y in range(0, len(geojson['features'][0]['properties']['segments'])): # Features\n",
    "        time += geojson['features'][0]['properties']['segments'][y]['duration']\n",
    "        distance += geojson['features'][0]['properties']['segments'][y]['distance']\n",
    "    folium.GeoJson(geojson).add_to(map_osm1) # Add to map\n",
    "    print('OK! {} | {}'.format(x, coordinates))"
   ]
  },
  {
   "cell_type": "code",
   "execution_count": null,
   "metadata": {},
   "outputs": [],
   "source": [
    "print('Total Length: {} km'.format(round(distance/1000, 0)))\n",
    "print('Total Time: {} Min'.format(round(time/60)))"
   ]
  }
 ],
 "metadata": {
  "kernelspec": {
   "display_name": "Python 3",
   "language": "python",
   "name": "python3"
  },
  "language_info": {
   "name": "python",
   "version": "3.10.9 (tags/v3.10.9:1dd9be6, Dec  6 2022, 20:01:21) [MSC v.1934 64 bit (AMD64)]"
  },
  "orig_nbformat": 4,
  "vscode": {
   "interpreter": {
    "hash": "7879a143bc7b816049da47be7b1684a9d27dc0e76590e5430d3e87895159d535"
   }
  }
 },
 "nbformat": 4,
 "nbformat_minor": 2
}
