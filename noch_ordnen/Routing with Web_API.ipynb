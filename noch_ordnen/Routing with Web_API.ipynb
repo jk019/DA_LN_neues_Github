{
 "cells": [
  {
   "cell_type": "code",
   "execution_count": 3,
   "metadata": {},
   "outputs": [
    {
     "ename": "ModuleNotFoundError",
     "evalue": "No module named 'overpass'",
     "output_type": "error",
     "traceback": [
      "\u001b[1;31m---------------------------------------------------------------------------\u001b[0m",
      "\u001b[1;31mModuleNotFoundError\u001b[0m                       Traceback (most recent call last)",
      "Cell \u001b[1;32mIn[3], line 1\u001b[0m\n\u001b[1;32m----> 1\u001b[0m \u001b[39mimport\u001b[39;00m \u001b[39moverpass\u001b[39;00m\n",
      "\u001b[1;31mModuleNotFoundError\u001b[0m: No module named 'overpass'"
     ]
    }
   ],
   "source": [
    "from OSMPythonTools.overpass import Overpass"
   ]
  },
  {
   "cell_type": "code",
   "execution_count": null,
   "metadata": {},
   "outputs": [],
   "source": [
    "overpass = Overpass()"
   ]
  },
  {
   "cell_type": "code",
   "execution_count": null,
   "metadata": {},
   "outputs": [],
   "source": [
    "query = '''\n",
    "[out:json][timeout:25];\n",
    "{{geocodeArea:Winterthur}}->.searchArea;\n",
    "\n",
    "area[name=\"Winterthur\"];\n",
    "(\n",
    "  relation[\"type\"=\"boundary\"][\"name\"=\"Winterthur\"];\n",
    "  node[\"amenity\"=\"charging_station\"](area.searchArea);\n",
    ");\n",
    "\n",
    "out body;\n",
    ">;\n",
    "out skel qt;\n",
    "'''\n",
    "\n",
    "r= overpass.query(query)"
   ]
  },
  {
   "cell_type": "code",
   "execution_count": null,
   "metadata": {},
   "outputs": [],
   "source": [
    "r.toJSON()"
   ]
  },
  {
   "cell_type": "code",
   "execution_count": null,
   "metadata": {},
   "outputs": [],
   "source": [
    "dir(r)"
   ]
  }
 ],
 "metadata": {
  "kernelspec": {
   "display_name": "Python 3",
   "language": "python",
   "name": "python3"
  },
  "language_info": {
   "codemirror_mode": {
    "name": "ipython",
    "version": 3
   },
   "file_extension": ".py",
   "mimetype": "text/x-python",
   "name": "python",
   "nbconvert_exporter": "python",
   "pygments_lexer": "ipython3",
   "version": "3.10.1 (tags/v3.10.1:2cd268a, Dec  6 2021, 19:10:37) [MSC v.1929 64 bit (AMD64)]"
  },
  "orig_nbformat": 4,
  "vscode": {
   "interpreter": {
    "hash": "b88106cd25352eb78e9a84ccc61d7371606ab3552382a286fdbe15a47320f655"
   }
  }
 },
 "nbformat": 4,
 "nbformat_minor": 2
}
