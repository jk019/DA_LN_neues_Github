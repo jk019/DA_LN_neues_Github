{
 "cells": [
  {
   "cell_type": "code",
   "execution_count": 3,
   "metadata": {},
   "outputs": [],
   "source": [
    "# Libraries\n",
    "import os\n",
    "import folium\n",
    "import openpyxl\n",
    "import pandas as pd\n",
    "import geopandas as gpd\n",
    "\n",
    "# Ignore warnings\n",
    "import warnings\n",
    "warnings.filterwarnings('ignore')"
   ]
  },
  {
   "cell_type": "code",
   "execution_count": 5,
   "metadata": {},
   "outputs": [
    {
     "ename": "NameError",
     "evalue": "name 'polys' is not defined",
     "output_type": "error",
     "traceback": [
      "\u001b[1;31m---------------------------------------------------------------------------\u001b[0m",
      "\u001b[1;31mNameError\u001b[0m                                 Traceback (most recent call last)",
      "\u001b[1;32mc:\\Users\\luchu\\Documents\\GitHub\\DataAnalytics_Project\\Routing mal andersch.ipynb Cell 2\u001b[0m in \u001b[0;36m<cell line: 4>\u001b[1;34m()\u001b[0m\n\u001b[0;32m      <a href='vscode-notebook-cell:/c%3A/Users/luchu/Documents/GitHub/DataAnalytics_Project/Routing%20mal%20andersch.ipynb#W1sZmlsZQ%3D%3D?line=0'>1</a>\u001b[0m m \u001b[39m=\u001b[39m folium\u001b[39m.\u001b[39mMap(location\u001b[39m=\u001b[39m[\u001b[39m47.44\u001b[39m, \u001b[39m8.65\u001b[39m], zoom_start\u001b[39m=\u001b[39m\u001b[39m11\u001b[39m)\n\u001b[0;32m      <a href='vscode-notebook-cell:/c%3A/Users/luchu/Documents/GitHub/DataAnalytics_Project/Routing%20mal%20andersch.ipynb#W1sZmlsZQ%3D%3D?line=2'>3</a>\u001b[0m \u001b[39m# Map settings\u001b[39;00m\n\u001b[0;32m      <a href='vscode-notebook-cell:/c%3A/Users/luchu/Documents/GitHub/DataAnalytics_Project/Routing%20mal%20andersch.ipynb#W1sZmlsZQ%3D%3D?line=3'>4</a>\u001b[0m folium\u001b[39m.\u001b[39mChoropleth(\n\u001b[1;32m----> <a href='vscode-notebook-cell:/c%3A/Users/luchu/Documents/GitHub/DataAnalytics_Project/Routing%20mal%20andersch.ipynb#W1sZmlsZQ%3D%3D?line=4'>5</a>\u001b[0m     geo_data\u001b[39m=\u001b[39mpolys\u001b[39m.\u001b[39miloc[[idx]],\n\u001b[0;32m      <a href='vscode-notebook-cell:/c%3A/Users/luchu/Documents/GitHub/DataAnalytics_Project/Routing%20mal%20andersch.ipynb#W1sZmlsZQ%3D%3D?line=5'>6</a>\u001b[0m     name\u001b[39m=\u001b[39m\u001b[39m'\u001b[39m\u001b[39mpolys\u001b[39m\u001b[39m'\u001b[39m,\n\u001b[0;32m      <a href='vscode-notebook-cell:/c%3A/Users/luchu/Documents/GitHub/DataAnalytics_Project/Routing%20mal%20andersch.ipynb#W1sZmlsZQ%3D%3D?line=6'>7</a>\u001b[0m     fill_color\u001b[39m=\u001b[39m\u001b[39m'\u001b[39m\u001b[39mgreenyellow\u001b[39m\u001b[39m'\u001b[39m\n\u001b[0;32m      <a href='vscode-notebook-cell:/c%3A/Users/luchu/Documents/GitHub/DataAnalytics_Project/Routing%20mal%20andersch.ipynb#W1sZmlsZQ%3D%3D?line=7'>8</a>\u001b[0m )\u001b[39m.\u001b[39madd_to(m)\n\u001b[0;32m     <a href='vscode-notebook-cell:/c%3A/Users/luchu/Documents/GitHub/DataAnalytics_Project/Routing%20mal%20andersch.ipynb#W1sZmlsZQ%3D%3D?line=9'>10</a>\u001b[0m folium\u001b[39m.\u001b[39mLayerControl()\u001b[39m.\u001b[39madd_to(m)\n\u001b[0;32m     <a href='vscode-notebook-cell:/c%3A/Users/luchu/Documents/GitHub/DataAnalytics_Project/Routing%20mal%20andersch.ipynb#W1sZmlsZQ%3D%3D?line=11'>12</a>\u001b[0m \u001b[39m# Plot map\u001b[39;00m\n",
      "\u001b[1;31mNameError\u001b[0m: name 'polys' is not defined"
     ]
    }
   ],
   "source": [
    "m = folium.Map(location=[47.44, 8.65], zoom_start=11)\n",
    "\n",
    "# Map settings\n",
    "folium.Choropleth(\n",
    "    geo_data=polys.iloc[[idx]],\n",
    "    name='polys',\n",
    "    fill_color='greenyellow'\n",
    ").add_to(m)\n",
    "\n",
    "folium.LayerControl().add_to(m)\n",
    "\n",
    "# Plot map\n",
    "m"
   ]
  }
 ],
 "metadata": {
  "kernelspec": {
   "display_name": "base",
   "language": "python",
   "name": "python3"
  },
  "language_info": {
   "codemirror_mode": {
    "name": "ipython",
    "version": 3
   },
   "file_extension": ".py",
   "mimetype": "text/x-python",
   "name": "python",
   "nbconvert_exporter": "python",
   "pygments_lexer": "ipython3",
   "version": "3.9.12 (main, Apr  4 2022, 05:22:27) [MSC v.1916 64 bit (AMD64)]"
  },
  "orig_nbformat": 4,
  "vscode": {
   "interpreter": {
    "hash": "d192288afb6fd94a25d53813387de33cdb73d58ede8d8ef9904481b3def76078"
   }
  }
 },
 "nbformat": 4,
 "nbformat_minor": 2
}
